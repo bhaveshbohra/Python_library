{
 "cells": [
  {
   "cell_type": "code",
   "execution_count": 14,
   "id": "2f4a9018",
   "metadata": {},
   "outputs": [],
   "source": [
    "import numpy as np "
   ]
  },
  {
   "cell_type": "code",
   "execution_count": 15,
   "id": "0c1c8ade",
   "metadata": {},
   "outputs": [
    {
     "name": "stdout",
     "output_type": "stream",
     "text": [
      "2.56 µs ± 146 ns per loop (mean ± std. dev. of 7 runs, 100,000 loops each)\n"
     ]
    }
   ],
   "source": [
    "%timeit [j**4 for j in range (1,9)]"
   ]
  },
  {
   "cell_type": "code",
   "execution_count": 16,
   "id": "359f2ff4",
   "metadata": {},
   "outputs": [
    {
     "name": "stdout",
     "output_type": "stream",
     "text": [
      "2.82 µs ± 329 ns per loop (mean ± std. dev. of 7 runs, 100,000 loops each)\n"
     ]
    }
   ],
   "source": [
    "%timeit np.arange(1,9)**4"
   ]
  },
  {
   "cell_type": "code",
   "execution_count": 21,
   "id": "2125667c",
   "metadata": {},
   "outputs": [
    {
     "name": "stdout",
     "output_type": "stream",
     "text": [
      "[1 2 3 4 5]\n",
      "<class 'numpy.ndarray'>\n"
     ]
    }
   ],
   "source": [
    "\n",
    "arr = np.array([1, 2, 3, 4, 5])\n",
    "\n",
    "print(arr)\n",
    "\n",
    "print(type(arr))"
   ]
  },
  {
   "cell_type": "code",
   "execution_count": 22,
   "id": "7968fb06",
   "metadata": {},
   "outputs": [
    {
     "name": "stdout",
     "output_type": "stream",
     "text": [
      "[1 2 3 4 5]\n",
      "<class 'numpy.ndarray'>\n"
     ]
    }
   ],
   "source": [
    "\n",
    "arr = np.array((1, 2, 3, 4, 5))\n",
    "\n",
    "print(arr)\n",
    "print(type(arr))"
   ]
  },
  {
   "cell_type": "code",
   "execution_count": 23,
   "id": "dd3526eb",
   "metadata": {},
   "outputs": [
    {
     "name": "stdout",
     "output_type": "stream",
     "text": [
      "42\n"
     ]
    }
   ],
   "source": [
    "arr = np.array(42) # zero dim arr\n",
    "\n",
    "print(arr)\n"
   ]
  },
  {
   "cell_type": "code",
   "execution_count": 42,
   "id": "ac4d49ca",
   "metadata": {},
   "outputs": [
    {
     "name": "stdout",
     "output_type": "stream",
     "text": [
      "[1 2 3 4 5]\n",
      "1\n"
     ]
    }
   ],
   "source": [
    "# one -dim array\n",
    "arr = np.array([1, 2, 3, 4, 5])\n",
    "\n",
    "print(arr)\n",
    "print(arr.ndim)# print dimesnion of array "
   ]
  },
  {
   "cell_type": "code",
   "execution_count": 25,
   "id": "09433bc8",
   "metadata": {},
   "outputs": [
    {
     "name": "stdout",
     "output_type": "stream",
     "text": [
      "[[1 2 3]\n",
      " [4 5 6]]\n"
     ]
    }
   ],
   "source": [
    "# two dim array\n",
    "arr = np.array([[1, 2, 3], [4, 5, 6]])\n",
    "\n",
    "print(arr)"
   ]
  },
  {
   "cell_type": "code",
   "execution_count": 26,
   "id": "4e765b70",
   "metadata": {},
   "outputs": [
    {
     "name": "stdout",
     "output_type": "stream",
     "text": [
      "[[[1 2 3]\n",
      "  [4 5 6]]\n",
      "\n",
      " [[1 2 3]\n",
      "  [4 5 6]]]\n"
     ]
    }
   ],
   "source": [
    "arr = np.array([[[1, 2, 3], [4, 5, 6]], [[1, 2, 3], [4, 5, 6]]])\n",
    "\n",
    "print(arr)"
   ]
  },
  {
   "cell_type": "code",
   "execution_count": 27,
   "id": "c43d2673",
   "metadata": {},
   "outputs": [
    {
     "name": "stdout",
     "output_type": "stream",
     "text": [
      "0\n",
      "1\n",
      "2\n",
      "3\n"
     ]
    }
   ],
   "source": [
    "a = np.array(42)\n",
    "b = np.array([1, 2, 3, 4, 5])\n",
    "c = np.array([[1, 2, 3], [4, 5, 6]])\n",
    "d = np.array([[[1, 2, 3], [4, 5, 6]], [[1, 2, 3], [4, 5, 6]]])\n",
    "\n",
    "print(a.ndim)\n",
    "print(b.ndim)\n",
    "print(c.ndim)\n",
    "print(d.ndim)"
   ]
  },
  {
   "cell_type": "code",
   "execution_count": 28,
   "id": "62ee73b4",
   "metadata": {},
   "outputs": [
    {
     "name": "stdout",
     "output_type": "stream",
     "text": [
      "[[[[[1 2 3 4]]]]]\n",
      "number of dimensions : 5\n"
     ]
    }
   ],
   "source": [
    "# An array can have any number of dimensions.\n",
    "# When the array is created, \n",
    "# you can define the number of dimensions by using the ndmin argument.\n",
    "\n",
    "\n",
    "\n",
    "arr = np.array([1, 2, 3, 4], ndmin=5)\n",
    "\n",
    "print(arr)\n",
    "print('number of dimensions :', arr.ndim)"
   ]
  },
  {
   "cell_type": "code",
   "execution_count": 29,
   "id": "ada21c94",
   "metadata": {},
   "outputs": [
    {
     "name": "stdout",
     "output_type": "stream",
     "text": [
      "1\n"
     ]
    }
   ],
   "source": [
    "arr = np.array([1, 2, 3, 4])\n",
    "\n",
    "print(arr[0])"
   ]
  },
  {
   "cell_type": "code",
   "execution_count": 30,
   "id": "29dc9931",
   "metadata": {},
   "outputs": [
    {
     "name": "stdout",
     "output_type": "stream",
     "text": [
      "7\n"
     ]
    }
   ],
   "source": [
    "arr = np.array([1, 2, 3, 4])\n",
    "\n",
    "print(arr[2] + arr[3])"
   ]
  },
  {
   "cell_type": "code",
   "execution_count": 31,
   "id": "adf865bf",
   "metadata": {},
   "outputs": [
    {
     "name": "stdout",
     "output_type": "stream",
     "text": [
      "2nd element on 1st row:  2\n"
     ]
    }
   ],
   "source": [
    "arr = np.array([[1,2,3,4,5], [6,7,8,9,10]])\n",
    "\n",
    "print('2nd element on 1st row: ', arr[0, 1])"
   ]
  },
  {
   "cell_type": "code",
   "execution_count": 32,
   "id": "5be59f48",
   "metadata": {},
   "outputs": [
    {
     "name": "stdout",
     "output_type": "stream",
     "text": [
      "5th element on 2nd row:  10\n"
     ]
    }
   ],
   "source": [
    "arr = np.array([[1,2,3,4,5], [6,7,8,9,10]])\n",
    "\n",
    "print('5th element on 2nd row: ', arr[1, 4])"
   ]
  },
  {
   "cell_type": "code",
   "execution_count": 33,
   "id": "178860d1",
   "metadata": {},
   "outputs": [
    {
     "name": "stdout",
     "output_type": "stream",
     "text": [
      "6\n"
     ]
    }
   ],
   "source": [
    "arr = np.array([[[1, 2, 3], [4, 5, 6]], [[7, 8, 9], [10, 11, 12]]])\n",
    "\n",
    "print(arr[0, 1, 2])"
   ]
  },
  {
   "cell_type": "markdown",
   "id": "1afd0169",
   "metadata": {},
   "source": [
    "Slicing arrays\n",
    "Slicing in python means taking elements from one given index to another given index.\n",
    "We pass slice instead of index like this: [start:end].\n",
    "We can also define the step, like this: [start:end:step].\n",
    "If we don't pass start its considered 0\n",
    "If we don't pass end its considered length of array in that dimension\n",
    "If we don't pass step its considered 1"
   ]
  },
  {
   "cell_type": "code",
   "execution_count": 182,
   "id": "dc1856e9",
   "metadata": {},
   "outputs": [
    {
     "name": "stdout",
     "output_type": "stream",
     "text": [
      "[2 3 4 5]\n"
     ]
    }
   ],
   "source": [
    "arr = np.array([1, 2, 3, 4, 5, 6, 7])\n",
    "\n",
    "print(arr[1:5])\n"
   ]
  },
  {
   "cell_type": "code",
   "execution_count": 183,
   "id": "091fc9e6",
   "metadata": {},
   "outputs": [
    {
     "name": "stdout",
     "output_type": "stream",
     "text": [
      "[5 6]\n"
     ]
    }
   ],
   "source": [
    "arr = np.array([1, 2, 3, 4, 5, 6, 7])\n",
    "\n",
    "print(arr[-3:-1])"
   ]
  },
  {
   "cell_type": "code",
   "execution_count": 184,
   "id": "d89e004a",
   "metadata": {},
   "outputs": [
    {
     "name": "stdout",
     "output_type": "stream",
     "text": [
      "[7 8 9]\n"
     ]
    }
   ],
   "source": [
    "# slicing 2d array\n",
    "arr = np.array([[1, 2, 3, 4, 5], [6, 7, 8, 9, 10]])\n",
    "\n",
    "print(arr[1, 1:4]) # first entry row no , 2 entry from start to end "
   ]
  },
  {
   "cell_type": "code",
   "execution_count": 185,
   "id": "2c50c7e0",
   "metadata": {},
   "outputs": [
    {
     "name": "stdout",
     "output_type": "stream",
     "text": [
      "[3 8]\n"
     ]
    }
   ],
   "source": [
    "arr = np.array([[1, 2, 3, 4, 5], [6, 7, 8, 9, 10]])\n",
    "\n",
    "print(arr[0:2, 2]) # first entry row from 1 to 2. 2 entry index 2  \n",
    "# From both elements, return index 2:"
   ]
  },
  {
   "cell_type": "code",
   "execution_count": 190,
   "id": "4ceb0814",
   "metadata": {},
   "outputs": [
    {
     "name": "stdout",
     "output_type": "stream",
     "text": [
      "[3 8]\n"
     ]
    }
   ],
   "source": [
    "arr = np.array([[1, 2, 3, 4, 5], [6, 7, 8, 9, 10], [2, 4, 1, 2, 5]]) \n",
    "#if dim is not same then dont work\n",
    "\n",
    "print(arr[0:2, 2]) #run only for 1 and 2 row "
   ]
  },
  {
   "cell_type": "code",
   "execution_count": 192,
   "id": "2cbd68d5",
   "metadata": {},
   "outputs": [
    {
     "name": "stdout",
     "output_type": "stream",
     "text": [
      "[3 8 1]\n"
     ]
    }
   ],
   "source": [
    "arr = np.array([[1, 2, 3, 4, 5], [6, 7, 8, 9, 10], [2, 4, 1, 2, 5]]) \n",
    "#if dim is not same then dont work\n",
    "\n",
    "print(arr[0:3, 2])"
   ]
  },
  {
   "cell_type": "code",
   "execution_count": 39,
   "id": "67f7bce6",
   "metadata": {},
   "outputs": [
    {
     "name": "stdout",
     "output_type": "stream",
     "text": [
      "[[2 3 4]\n",
      " [7 8 9]]\n"
     ]
    }
   ],
   "source": [
    "arr = np.array([[1, 2, 3, 4, 5], [6, 7, 8, 9, 10]])\n",
    "\n",
    "print(arr[0:2, 1:4])"
   ]
  },
  {
   "cell_type": "markdown",
   "id": "9fea4ed8",
   "metadata": {},
   "source": [
    "# Data type in numpy"
   ]
  },
  {
   "cell_type": "markdown",
   "id": "1765b169",
   "metadata": {},
   "source": [
    "Data Types in NumPy\n",
    "NumPy has some extra data types, and refer to data types with one character, like i for integers, u for unsigned integers etc.\n",
    "\n",
    "Below is a list of all data types in NumPy and the characters used to represent them.\n",
    "\n",
    "i - integer\n",
    "b - boolean\n",
    "u - unsigned integer\n",
    "f - float\n",
    "c - complex float\n",
    "m - timedelta\n",
    "M - datetime\n",
    "O - object\n",
    "S - string\n",
    "U - unicode string\n",
    "V - fixed chunk of memory for other type ( void )"
   ]
  },
  {
   "cell_type": "code",
   "execution_count": 66,
   "id": "2ec722b7",
   "metadata": {},
   "outputs": [
    {
     "name": "stdout",
     "output_type": "stream",
     "text": [
      "int32\n"
     ]
    }
   ],
   "source": [
    "arr = np.array([1, 2, 3, 4])\n",
    "\n",
    "print(arr.dtype)"
   ]
  },
  {
   "cell_type": "code",
   "execution_count": 67,
   "id": "143d2e5b",
   "metadata": {},
   "outputs": [
    {
     "name": "stdout",
     "output_type": "stream",
     "text": [
      "<U6\n"
     ]
    }
   ],
   "source": [
    "arr = np.array(['apple', 'banana', 'cherry'])\n",
    "\n",
    "print(arr.dtype)"
   ]
  },
  {
   "cell_type": "code",
   "execution_count": 68,
   "id": "6b0bafc2",
   "metadata": {},
   "outputs": [
    {
     "name": "stdout",
     "output_type": "stream",
     "text": [
      "[b'1' b'2' b'3' b'4']\n",
      "|S1\n"
     ]
    }
   ],
   "source": [
    "arr = np.array([1, 2, 3, 4], dtype='S')\n",
    "\n",
    "print(arr)\n",
    "print(arr.dtype)"
   ]
  },
  {
   "cell_type": "code",
   "execution_count": 69,
   "id": "d7610179",
   "metadata": {},
   "outputs": [
    {
     "name": "stdout",
     "output_type": "stream",
     "text": [
      "[1 2 3 4]\n",
      "int32\n"
     ]
    }
   ],
   "source": [
    "arr = np.array([1, 2, 3, 4], dtype='i4')\n",
    "\n",
    "print(arr)\n",
    "print(arr.dtype)"
   ]
  },
  {
   "cell_type": "code",
   "execution_count": 73,
   "id": "df5982a9",
   "metadata": {},
   "outputs": [
    {
     "name": "stdout",
     "output_type": "stream",
     "text": [
      "[1 2 3]\n",
      "int32\n",
      "int8\n"
     ]
    }
   ],
   "source": [
    "#Converting Data Type on Existing Arrays\n",
    "\n",
    "arr = np.array([1.1, 2.1, 3.1])\n",
    "newarr = arr.astype('i')\n",
    "print(newarr)\n",
    "print(newarr.dtype)\n",
    "\n",
    "#or \n",
    "\n",
    "arr2 = np.array([1.1, 2.1, 3.1], np.int8)\n",
    "print(arr2.dtype)\n",
    "\n"
   ]
  },
  {
   "cell_type": "code",
   "execution_count": 82,
   "id": "36890058",
   "metadata": {},
   "outputs": [
    {
     "name": "stdout",
     "output_type": "stream",
     "text": [
      "data type: int32\n",
      "data type: float32\n",
      "data type: int64\n",
      "data type: int32\n",
      "[1 2 4 5]\n",
      "[1. 2. 4. 5.]\n",
      "[1 2 4 5]\n"
     ]
    }
   ],
   "source": [
    "arr= np.array([1,2,4,5])\n",
    "\n",
    "new1= arr.astype('f')\n",
    "new2= arr.astype('i8') #2-16/4-32/8-64\n",
    "\n",
    "new3= np.int_(new1)\n",
    "\n",
    "print(\"data type:\" , arr.dtype)\n",
    "print(\"data type:\" , new1.dtype)\n",
    "print(\"data type:\" , new2.dtype)\n",
    "print(\"data type:\" , new3.dtype)\n",
    "\n",
    "print(arr)\n",
    "print(new1)\n",
    "print(new2)"
   ]
  },
  {
   "cell_type": "code",
   "execution_count": 83,
   "id": "822b5b15",
   "metadata": {},
   "outputs": [
    {
     "name": "stdout",
     "output_type": "stream",
     "text": [
      "[ True False  True]\n",
      "bool\n"
     ]
    }
   ],
   "source": [
    "arr = np.array([1, 0, 3])\n",
    "\n",
    "newarr = arr.astype(bool)\n",
    "\n",
    "print(newarr)\n",
    "print(newarr.dtype)"
   ]
  },
  {
   "cell_type": "markdown",
   "id": "3fca16e3",
   "metadata": {},
   "source": [
    "# Shape of an Array"
   ]
  },
  {
   "cell_type": "code",
   "execution_count": 86,
   "id": "7c718a89",
   "metadata": {},
   "outputs": [
    {
     "name": "stdout",
     "output_type": "stream",
     "text": [
      "[[1 2 3 4]\n",
      " [5 6 7 8]]\n",
      "\n",
      "(2, 4)\n"
     ]
    }
   ],
   "source": [
    "arr = np.array([[1, 2, 3, 4], [5, 6, 7, 8]])\n",
    "\n",
    "\n",
    "print(arr)\n",
    "print()\n",
    "print(arr.shape) # type of matrix "
   ]
  },
  {
   "cell_type": "code",
   "execution_count": 89,
   "id": "5cc6763b",
   "metadata": {},
   "outputs": [
    {
     "name": "stdout",
     "output_type": "stream",
     "text": [
      "[[[[[1 2 3 4]]]]]\n",
      "shape of array : (1, 1, 1, 1, 4)\n",
      "5\n"
     ]
    }
   ],
   "source": [
    "arr1 = np.array([1, 2, 3, 4], ndmin=5)\n",
    "\n",
    "print(arr1)\n",
    "print('shape of array :', arr1.shape) # no of row in [-],[-][-][-][-----]\n",
    "print(arr1.ndim)"
   ]
  },
  {
   "cell_type": "code",
   "execution_count": 98,
   "id": "5a86cfbf",
   "metadata": {},
   "outputs": [
    {
     "name": "stdout",
     "output_type": "stream",
     "text": [
      "[1 2 3 4 5 6 7 8]\n",
      "1\n",
      "\n",
      "[[1 2]\n",
      " [3 4]\n",
      " [5 6]\n",
      " [7 8]]\n",
      "2\n"
     ]
    }
   ],
   "source": [
    "#reshape\n",
    "\n",
    "arr4= np.array([1,2,3,4,5,6,7,8])\n",
    "print(arr4)\n",
    "print(arr4.ndim)\n",
    "\n",
    "print()\n",
    "\n",
    "x= arr4.reshape(4,2) # (row,col)\n",
    "\n",
    "print(x)\n",
    "\n",
    "print(x.ndim)\n"
   ]
  },
  {
   "cell_type": "code",
   "execution_count": 101,
   "id": "f9ce2b3c",
   "metadata": {},
   "outputs": [
    {
     "name": "stdout",
     "output_type": "stream",
     "text": [
      "[ 1  2  3  4  5  6  7  8  9 10 11 12]\n",
      "1\n",
      "\n",
      "[[[ 1  2]\n",
      "  [ 3  4]\n",
      "  [ 5  6]]\n",
      "\n",
      " [[ 7  8]\n",
      "  [ 9 10]\n",
      "  [11 12]]]\n",
      "3\n",
      "[ 1  2  3  4  5  6  7  8  9 10 11 12] 1\n"
     ]
    }
   ],
   "source": [
    "#reshape 3D\n",
    "\n",
    "arr4= np.array([1,2,3,4,5,6,7,8,9,10,11,12])\n",
    "print(arr4)\n",
    "print(arr4.ndim)\n",
    "\n",
    "print()\n",
    "# The outermost dimension \n",
    "# will have 2 arrays that contains 3 arrays, each with 2 elements:\n",
    "x= arr4.reshape(2,3,2) # (row,col)\n",
    "\n",
    "print(x)\n",
    "\n",
    "print(x.ndim)\n",
    "# Flattening the arrays\n",
    "# Flattening array means converting a multidimensional array into a 1D array.\n",
    "one = x.reshape(-1)\n",
    "print(one, one.ndim)"
   ]
  },
  {
   "cell_type": "code",
   "execution_count": 102,
   "id": "4e1803b5",
   "metadata": {},
   "outputs": [
    {
     "name": "stdout",
     "output_type": "stream",
     "text": [
      "[[[1 2]\n",
      "  [3 4]]\n",
      "\n",
      " [[5 6]\n",
      "  [7 8]]]\n"
     ]
    }
   ],
   "source": [
    "arr = np.array([1, 2, 3, 4, 5, 6, 7, 8])\n",
    "\n",
    "newarr = arr.reshape(2, 2, -1)\n",
    "\n",
    "print(newarr)\n"
   ]
  },
  {
   "cell_type": "markdown",
   "id": "e86a7370",
   "metadata": {},
   "source": [
    "# arithmetic operator "
   ]
  },
  {
   "cell_type": "code",
   "execution_count": 103,
   "id": "0da78a9f",
   "metadata": {},
   "outputs": [
    {
     "name": "stdout",
     "output_type": "stream",
     "text": [
      "[4 5 6 7]\n"
     ]
    }
   ],
   "source": [
    "var= np.array([1,2,3,4])\n",
    "\n",
    "varadd= var+3\n",
    "print(varadd)"
   ]
  },
  {
   "cell_type": "code",
   "execution_count": 104,
   "id": "4313c8a4",
   "metadata": {},
   "outputs": [
    {
     "name": "stdout",
     "output_type": "stream",
     "text": [
      "[2 4 6 8]\n"
     ]
    }
   ],
   "source": [
    "var1= np.array([1,2,3,4])\n",
    "var2= np.array([1,2,3,4])\n",
    "\n",
    "\n",
    "\n",
    "varadd= var1+var2 \n",
    "print(varadd)"
   ]
  },
  {
   "cell_type": "code",
   "execution_count": 105,
   "id": "f58c8c3e",
   "metadata": {},
   "outputs": [
    {
     "name": "stdout",
     "output_type": "stream",
     "text": [
      "[-2 -1  0  1]\n"
     ]
    }
   ],
   "source": [
    "var= np.array([1,2,3,4])\n",
    "new= var-3\n",
    "print(new)"
   ]
  },
  {
   "cell_type": "code",
   "execution_count": 106,
   "id": "a4464fb6",
   "metadata": {},
   "outputs": [
    {
     "name": "stdout",
     "output_type": "stream",
     "text": [
      "[ 3  6  9 12]\n"
     ]
    }
   ],
   "source": [
    "var= np.array([1,2,3,4])\n",
    "new= var*3\n",
    "print(new)"
   ]
  },
  {
   "cell_type": "code",
   "execution_count": 107,
   "id": "676107db",
   "metadata": {},
   "outputs": [
    {
     "name": "stdout",
     "output_type": "stream",
     "text": [
      "[0 0 1 1]\n"
     ]
    }
   ],
   "source": [
    "var= np.array([1,2,3,4])\n",
    "new= var//3\n",
    "print(new)"
   ]
  },
  {
   "cell_type": "code",
   "execution_count": 108,
   "id": "0eb0dcf0",
   "metadata": {},
   "outputs": [
    {
     "name": "stdout",
     "output_type": "stream",
     "text": [
      "[0.33333333 0.66666667 1.         1.33333333]\n"
     ]
    }
   ],
   "source": [
    "var= np.array([1,2,3,4])\n",
    "new= var/3\n",
    "print(new)"
   ]
  },
  {
   "cell_type": "code",
   "execution_count": 109,
   "id": "b4323e34",
   "metadata": {},
   "outputs": [
    {
     "name": "stdout",
     "output_type": "stream",
     "text": [
      "[0 0 0 0]\n"
     ]
    }
   ],
   "source": [
    "var1= np.array([1,2,3,4])\n",
    "var2= np.array([1,2,3,4])\n",
    "\n",
    "new= var1-var2 \n",
    "print(new)"
   ]
  },
  {
   "cell_type": "code",
   "execution_count": 110,
   "id": "76a658b5",
   "metadata": {},
   "outputs": [
    {
     "name": "stdout",
     "output_type": "stream",
     "text": [
      "[2 4 6 8]\n"
     ]
    }
   ],
   "source": [
    "var1= np.array([1,2,3,4])\n",
    "var2= np.array([1,2,3,4])\n",
    "\n",
    "varadd= np.add(var1,var2) \n",
    "print(varadd)"
   ]
  },
  {
   "cell_type": "code",
   "execution_count": 111,
   "id": "82d7868a",
   "metadata": {},
   "outputs": [
    {
     "name": "stdout",
     "output_type": "stream",
     "text": [
      "[4 5 6 7]\n"
     ]
    }
   ],
   "source": [
    "var1= np.array([1,2,3,4])\n",
    "var2= np.array([1,2,3,4])\n",
    "\n",
    "varadd= np.add(var1,3) \n",
    "print(varadd)"
   ]
  },
  {
   "cell_type": "code",
   "execution_count": 112,
   "id": "6d027d19",
   "metadata": {},
   "outputs": [
    {
     "name": "stdout",
     "output_type": "stream",
     "text": [
      "[2 4 6]\n"
     ]
    }
   ],
   "source": [
    "arr1 = np.array([1, 2, 3])\n",
    "arr2 = np.array([1, 2, 3])\n",
    "\n",
    "newarr = np.add(arr1, arr2)\n",
    "\n",
    "print(newarr)"
   ]
  },
  {
   "cell_type": "code",
   "execution_count": 113,
   "id": "b94ebcd6",
   "metadata": {},
   "outputs": [
    {
     "name": "stdout",
     "output_type": "stream",
     "text": [
      "12\n"
     ]
    }
   ],
   "source": [
    "arr1 = np.array([1, 2, 3])\n",
    "arr2 = np.array([1, 2, 3])\n",
    "\n",
    "newarr = np.sum([arr1, arr2])\n",
    "\n",
    "print(newarr)"
   ]
  },
  {
   "cell_type": "code",
   "execution_count": 116,
   "id": "db3493ce",
   "metadata": {},
   "outputs": [
    {
     "name": "stdout",
     "output_type": "stream",
     "text": [
      "[[1 2 3 4]\n",
      " [2 3 4 5]]\n",
      "\n",
      "[[2 4 5 7]\n",
      " [7 6 3 4]]\n",
      "\n",
      "[[ 3  6  8 11]\n",
      " [ 9  9  7  9]]\n"
     ]
    }
   ],
   "source": [
    "#2d array\n",
    "\n",
    "var21= np.array([[1,2,3,4],[2,3,4,5]])\n",
    "var22= np.array([[2,4,5,7],[7,6,3,4]])\n",
    "print(var21)\n",
    "print()\n",
    "print(var22)\n",
    "print()\n",
    "\n",
    "varnew= var21+ var22\n",
    "\n",
    "print(varnew)"
   ]
  },
  {
   "cell_type": "code",
   "execution_count": 117,
   "id": "635692b8",
   "metadata": {},
   "outputs": [
    {
     "name": "stdout",
     "output_type": "stream",
     "text": [
      "[[1 2 3 4]\n",
      " [2 3 4 5]]\n",
      "\n",
      "[[2 4 5 7]\n",
      " [7 6 3 4]]\n",
      "\n",
      "[[-1 -2 -2 -3]\n",
      " [-5 -3  1  1]]\n"
     ]
    }
   ],
   "source": [
    "var21= np.array([[1,2,3,4],[2,3,4,5]])\n",
    "var22= np.array([[2,4,5,7],[7,6,3,4]])\n",
    "print(var21)\n",
    "print()\n",
    "print(var22)\n",
    "print()\n",
    "\n",
    "varnew= np.subtract(var21, var22)\n",
    "\n",
    "print(varnew)"
   ]
  },
  {
   "cell_type": "code",
   "execution_count": 118,
   "id": "c0ab14f5",
   "metadata": {},
   "outputs": [
    {
     "name": "stdout",
     "output_type": "stream",
     "text": [
      "[[1 2 3 4]\n",
      " [2 3 4 5]]\n",
      "\n",
      "[[2 4 5 7]\n",
      " [7 6 3 4]]\n",
      "\n",
      "[[ 2  8 15 28]\n",
      " [14 18 12 20]]\n"
     ]
    }
   ],
   "source": [
    "var21= np.array([[1,2,3,4],[2,3,4,5]])\n",
    "var22= np.array([[2,4,5,7],[7,6,3,4]])\n",
    "print(var21)\n",
    "print()\n",
    "print(var22)\n",
    "print()\n",
    "\n",
    "varnew= np.multiply(var21, var22) # not matrrix mutiplication\n",
    "\n",
    "print(varnew)"
   ]
  },
  {
   "cell_type": "code",
   "execution_count": 128,
   "id": "f9448784",
   "metadata": {},
   "outputs": [
    {
     "name": "stdout",
     "output_type": "stream",
     "text": [
      "24\n"
     ]
    }
   ],
   "source": [
    "arr = np.array([1, 2, 3, 4])\n",
    "\n",
    "x = np.prod(arr)\n",
    "\n",
    "print(x)"
   ]
  },
  {
   "cell_type": "code",
   "execution_count": 129,
   "id": "b6967905",
   "metadata": {},
   "outputs": [
    {
     "name": "stdout",
     "output_type": "stream",
     "text": [
      "40320\n"
     ]
    }
   ],
   "source": [
    "arr1 = np.array([1, 2, 3, 4])\n",
    "arr2 = np.array([5, 6, 7, 8])\n",
    "\n",
    "x = np.prod([arr1, arr2])\n",
    "\n",
    "print(x)"
   ]
  },
  {
   "cell_type": "code",
   "execution_count": 130,
   "id": "70e9f542",
   "metadata": {},
   "outputs": [
    {
     "name": "stdout",
     "output_type": "stream",
     "text": [
      "[  24 1680]\n"
     ]
    }
   ],
   "source": [
    "arr1 = np.array([1, 2, 3, 4])\n",
    "arr2 = np.array([5, 6, 7, 8])\n",
    "\n",
    "newarr = np.prod([arr1, arr2], axis=1)\n",
    "\n",
    "print(newarr)"
   ]
  },
  {
   "cell_type": "code",
   "execution_count": 119,
   "id": "f2536c26",
   "metadata": {},
   "outputs": [
    {
     "name": "stdout",
     "output_type": "stream",
     "text": [
      "[[1 2 3 4]\n",
      " [2 3 4 5]]\n",
      "\n",
      "[[2 4 5 7]\n",
      " [7 6 3 4]]\n",
      "\n",
      "[[0.5        0.5        0.6        0.57142857]\n",
      " [0.28571429 0.5        1.33333333 1.25      ]]\n"
     ]
    }
   ],
   "source": [
    "var21= np.array([[1,2,3,4],[2,3,4,5]])\n",
    "var22= np.array([[2,4,5,7],[7,6,3,4]])\n",
    "print(var21)\n",
    "print()\n",
    "print(var22)\n",
    "print()\n",
    "\n",
    "varnew= np.divide(var21, var22)\n",
    "\n",
    "print(varnew)"
   ]
  },
  {
   "cell_type": "code",
   "execution_count": 120,
   "id": "d5f8f90b",
   "metadata": {},
   "outputs": [
    {
     "name": "stdout",
     "output_type": "stream",
     "text": [
      "[[1 2 3 4]\n",
      " [2 3 4 5]]\n",
      "\n",
      "[[2 4 5 7]\n",
      " [7 6 3 4]]\n",
      "\n",
      "[[1 2 3 4]\n",
      " [2 3 1 1]]\n"
     ]
    }
   ],
   "source": [
    "var21= np.array([[1,2,3,4],[2,3,4,5]])\n",
    "var22= np.array([[2,4,5,7],[7,6,3,4]])\n",
    "print(var21)\n",
    "print()\n",
    "print(var22)\n",
    "print()\n",
    "\n",
    "varnew= np.mod(var21, var22)\n",
    "\n",
    "print(varnew)"
   ]
  },
  {
   "cell_type": "code",
   "execution_count": 121,
   "id": "814868d3",
   "metadata": {},
   "outputs": [
    {
     "name": "stdout",
     "output_type": "stream",
     "text": [
      "[[1 2 3 4]\n",
      " [2 3 4 5]]\n",
      "\n",
      "[[2 4 5 7]\n",
      " [7 6 3 4]]\n",
      "\n",
      "[[ 1  4  9 16]\n",
      " [ 4  9 16 25]]\n"
     ]
    }
   ],
   "source": [
    "var21= np.array([[1,2,3,4],[2,3,4,5]])\n",
    "var22= np.array([[2,4,5,7],[7,6,3,4]])\n",
    "print(var21)\n",
    "print()\n",
    "print(var22)\n",
    "print()\n",
    "\n",
    "varnew= np.power(var21,2)\n",
    "\n",
    "print(varnew)"
   ]
  },
  {
   "cell_type": "code",
   "execution_count": 122,
   "id": "ecbdc82d",
   "metadata": {},
   "outputs": [
    {
     "name": "stdout",
     "output_type": "stream",
     "text": [
      "[[1 2 3 4]\n",
      " [2 3 4 5]]\n",
      "\n",
      "[[2 4 5 7]\n",
      " [7 6 3 4]]\n",
      "\n",
      "[[    1    16   243 16384]\n",
      " [  128   729    64   625]]\n"
     ]
    }
   ],
   "source": [
    "var21= np.array([[1,2,3,4],[2,3,4,5]])\n",
    "var22= np.array([[2,4,5,7],[7,6,3,4]])\n",
    "print(var21)\n",
    "print()\n",
    "print(var22)\n",
    "print()\n",
    "\n",
    "varnew= np.power(var21, var22)\n",
    "\n",
    "print(varnew)"
   ]
  },
  {
   "cell_type": "code",
   "execution_count": 123,
   "id": "86088abf",
   "metadata": {},
   "outputs": [
    {
     "name": "stdout",
     "output_type": "stream",
     "text": [
      "[[1 2 3 4]\n",
      " [2 3 4 5]]\n",
      "\n",
      "[[2 4 5 7]\n",
      " [7 6 3 4]]\n",
      "\n",
      "[[1 0 0 0]\n",
      " [0 0 0 0]]\n"
     ]
    }
   ],
   "source": [
    "var21= np.array([[1,2,3,4],[2,3,4,5]])\n",
    "var22= np.array([[2,4,5,7],[7,6,3,4]])\n",
    "print(var21)\n",
    "print()\n",
    "print(var22)\n",
    "print()\n",
    "\n",
    "varnew= np.reciprocal(var21, var22)\n",
    "\n",
    "print(varnew)"
   ]
  },
  {
   "cell_type": "code",
   "execution_count": 124,
   "id": "a3276af9",
   "metadata": {},
   "outputs": [
    {
     "name": "stdout",
     "output_type": "stream",
     "text": [
      "[6 6]\n"
     ]
    }
   ],
   "source": [
    "arr1 = np.array([1, 2, 3])\n",
    "arr2 = np.array([1, 2, 3])\n",
    "\n",
    "newarr = np.sum([arr1, arr2], axis=1)\n",
    "\n",
    "print(newarr)"
   ]
  },
  {
   "cell_type": "code",
   "execution_count": 126,
   "id": "4bfe9ca4",
   "metadata": {},
   "outputs": [
    {
     "name": "stdout",
     "output_type": "stream",
     "text": [
      "[6 6]\n"
     ]
    }
   ],
   "source": [
    "arr1 = np.array([1, 2, 3])\n",
    "arr2 = np.array([1, 2, 3])\n",
    "\n",
    "newarr = np.sum([arr1, arr2], axis=1)\n",
    "\n",
    "print(newarr)"
   ]
  },
  {
   "cell_type": "code",
   "execution_count": 127,
   "id": "15336388",
   "metadata": {},
   "outputs": [
    {
     "name": "stdout",
     "output_type": "stream",
     "text": [
      "[1 3 6]\n"
     ]
    }
   ],
   "source": [
    "# partial sum of [1, 2, 3, 4] would be [1, 1+2, 1+2+3, 1+2+3+4] = [1, 3, 6, 10].\n",
    "arr = np.array([1, 2, 3])\n",
    "\n",
    "newarr = np.cumsum(arr)\n",
    "\n",
    "print(newarr)"
   ]
  },
  {
   "cell_type": "code",
   "execution_count": 131,
   "id": "c38795e6",
   "metadata": {},
   "outputs": [
    {
     "name": "stdout",
     "output_type": "stream",
     "text": [
      "[   5   30  210 1680]\n"
     ]
    }
   ],
   "source": [
    "arr = np.array([5, 6, 7, 8])\n",
    "\n",
    "newarr = np.cumprod(arr)\n",
    "\n",
    "print(newarr)"
   ]
  },
  {
   "cell_type": "code",
   "execution_count": 138,
   "id": "631493f5",
   "metadata": {},
   "outputs": [
    {
     "name": "stdout",
     "output_type": "stream",
     "text": [
      "min: 1\n",
      "min: 1 0\n",
      "\n",
      "max: 7\n",
      "max: 7 5\n"
     ]
    }
   ],
   "source": [
    "var= np.array([1,2,3,4,5,7])\n",
    "\n",
    "print(\"min:\",np.min(var))\n",
    "print(\"min:\",np.min(var), np.argmin(var))\n",
    "print()\n",
    "print(\"max:\",np.max(var))\n",
    "print(\"max:\",np.max(var),np.argmax(var))\n"
   ]
  },
  {
   "cell_type": "code",
   "execution_count": 148,
   "id": "e0044d99",
   "metadata": {},
   "outputs": [
    {
     "name": "stdout",
     "output_type": "stream",
     "text": [
      "[2 6 1 4] index 2\n",
      "[1 2] index 2\n",
      "sqrt: [[2.44948974 3.         1.         2.        ]\n",
      " [1.41421356 2.44948974 2.         2.23606798]]\n"
     ]
    }
   ],
   "source": [
    "var21= np.array([[6,9,1,4],[2,6,4,5]])\n",
    "\n",
    "print(np.min(var21,axis=0),'index',np.argmin(var21))\n",
    "print(np.min(var21,axis=1),\"index\",np.argmin(var21))\n",
    "print(\"sqrt:\", np.sqrt(var21))"
   ]
  },
  {
   "cell_type": "code",
   "execution_count": 145,
   "id": "c8ba21c3",
   "metadata": {},
   "outputs": [
    {
     "name": "stdout",
     "output_type": "stream",
     "text": [
      "[6 9 4 5]\n",
      "[9 6]\n"
     ]
    }
   ],
   "source": [
    "var21= np.array([[6,9,1,4],[2,6,4,5]])\n",
    "\n",
    "print(np.max(var21,axis=0))\n",
    "print(np.max(var21,axis=1))"
   ]
  },
  {
   "cell_type": "code",
   "execution_count": 150,
   "id": "97299f3f",
   "metadata": {},
   "outputs": [
    {
     "name": "stdout",
     "output_type": "stream",
     "text": [
      "[-0.2794155   0.6569866   0.84147098]\n",
      "[0.96017029 0.75390225 0.54030231]\n"
     ]
    }
   ],
   "source": [
    "var2= np.array([6,7,1])\n",
    "print(np.sin(var2))\n",
    "print(np.cos(var2))"
   ]
  },
  {
   "cell_type": "markdown",
   "id": "f0fcc116",
   "metadata": {},
   "source": [
    "#boardcasting array \n",
    "meansd dim of array size isnot same "
   ]
  },
  {
   "cell_type": "code",
   "execution_count": 154,
   "id": "007aca63",
   "metadata": {},
   "outputs": [
    {
     "name": "stdout",
     "output_type": "stream",
     "text": [
      "[ 8 11  6  4  8]\n"
     ]
    }
   ],
   "source": [
    "var1= np.array([3,4,3,2,1])\n",
    "var2= np.array([5,7,3,2,7])\n",
    "\n",
    "print(np.add(var1,var2))"
   ]
  },
  {
   "cell_type": "code",
   "execution_count": 155,
   "id": "a5667af5",
   "metadata": {},
   "outputs": [
    {
     "ename": "ValueError",
     "evalue": "operands could not be broadcast together with shapes (5,) (4,) ",
     "output_type": "error",
     "traceback": [
      "\u001b[1;31m---------------------------------------------------------------------------\u001b[0m",
      "\u001b[1;31mValueError\u001b[0m                                Traceback (most recent call last)",
      "Input \u001b[1;32mIn [155]\u001b[0m, in \u001b[0;36m<cell line: 4>\u001b[1;34m()\u001b[0m\n\u001b[0;32m      1\u001b[0m var1\u001b[38;5;241m=\u001b[39m np\u001b[38;5;241m.\u001b[39marray([\u001b[38;5;241m3\u001b[39m,\u001b[38;5;241m4\u001b[39m,\u001b[38;5;241m3\u001b[39m,\u001b[38;5;241m2\u001b[39m,\u001b[38;5;241m1\u001b[39m])\n\u001b[0;32m      2\u001b[0m var2\u001b[38;5;241m=\u001b[39m np\u001b[38;5;241m.\u001b[39marray([\u001b[38;5;241m5\u001b[39m,\u001b[38;5;241m7\u001b[39m,\u001b[38;5;241m3\u001b[39m,\u001b[38;5;241m7\u001b[39m])\n\u001b[1;32m----> 4\u001b[0m \u001b[38;5;28mprint\u001b[39m(\u001b[43mnp\u001b[49m\u001b[38;5;241;43m.\u001b[39;49m\u001b[43madd\u001b[49m\u001b[43m(\u001b[49m\u001b[43mvar1\u001b[49m\u001b[43m,\u001b[49m\u001b[43mvar2\u001b[49m\u001b[43m)\u001b[49m)\n",
      "\u001b[1;31mValueError\u001b[0m: operands could not be broadcast together with shapes (5,) (4,) "
     ]
    }
   ],
   "source": [
    "var1= np.array([3,4,3,2,1])\n",
    "var2= np.array([5,7,3,7])\n",
    "\n",
    "print(np.add(var1,var2))"
   ]
  },
  {
   "cell_type": "code",
   "execution_count": 174,
   "id": "7bb97180",
   "metadata": {},
   "outputs": [
    {
     "name": "stdout",
     "output_type": "stream",
     "text": [
      "dim of 1*5 (5,)\n",
      "\n",
      "[3 4 3 2 1]\n",
      "dim 4*1 (4, 1)\n",
      "\n",
      "[[5]\n",
      " [7]\n",
      " [3]\n",
      " [7]]\n",
      "(1,4)* (5*1): result (4,5)\n",
      "[[ 8  9  8  7  6]\n",
      " [10 11 10  9  8]\n",
      " [ 6  7  6  5  4]\n",
      " [10 11 10  9  8]]\n",
      "\n"
     ]
    }
   ],
   "source": [
    "var1= np.array([3,4,3,2,1]) # here we do mistake but code is run \n",
    "print(\"dim of 1*5\", var1.shape)\n",
    "print()\n",
    "print(var1)\n",
    "\n",
    "var2= np.array([[5],[7],[3],[7]])\n",
    "print(\"dim 4*1\",var2.shape)\n",
    "print()\n",
    "print(var2)\n",
    "\n",
    "print(\"(1,4)* (5*1): result (4,5)\")\n",
    "print(np.add(var1,var2))\n",
    "print()"
   ]
  },
  {
   "cell_type": "code",
   "execution_count": 178,
   "id": "ebde1ea3",
   "metadata": {},
   "outputs": [
    {
     "name": "stdout",
     "output_type": "stream",
     "text": [
      "dim of 1*5 (1, 5)\n",
      "\n",
      "[[3 4 3 2 1]]\n",
      "\n",
      "dim 4*1 (4, 1)\n",
      "\n",
      "[[5]\n",
      " [7]\n",
      " [3]\n",
      " [7]]\n",
      "\n",
      "(1,4)* (5*1): result (4,5)\n",
      "[[ 8  9  8  7  6]\n",
      " [10 11 10  9  8]\n",
      " [ 6  7  6  5  4]\n",
      " [10 11 10  9  8]]\n",
      "\n"
     ]
    }
   ],
   "source": [
    "var1= np.array([[3,4,3,2,1]]) \n",
    "print(\"dim of 1*5\", var1.shape)\n",
    "print()\n",
    "print(var1)\n",
    "print()\n",
    "\n",
    "\n",
    "var2= np.array([[5],[7],[3],[7]])\n",
    "print(\"dim 4*1\",var2.shape)\n",
    "print()\n",
    "print(var2)\n",
    "\n",
    "\n",
    "print()\n",
    "print(\"(1,4)* (5*1): result (4,5)\")\n",
    "print(np.add(var1,var2))\n",
    "print()"
   ]
  },
  {
   "cell_type": "code",
   "execution_count": 197,
   "id": "7f43f8a9",
   "metadata": {},
   "outputs": [
    {
     "name": "stdout",
     "output_type": "stream",
     "text": [
      "2\n",
      "8\n",
      "9\n",
      "2\n",
      "3\n",
      "4\n"
     ]
    }
   ],
   "source": [
    "x=([2,8,9,2,3,4])\n",
    "for i in x:\n",
    "    print(i)"
   ]
  },
  {
   "cell_type": "code",
   "execution_count": 198,
   "id": "c90a9e24",
   "metadata": {},
   "outputs": [
    {
     "name": "stdout",
     "output_type": "stream",
     "text": [
      "2\n",
      "8\n",
      "9\n",
      "2\n",
      "3\n",
      "4\n"
     ]
    }
   ],
   "source": [
    "x=np.array([2,8,9,2,3,4])\n",
    "for i in x:\n",
    "    print(i)"
   ]
  },
  {
   "cell_type": "code",
   "execution_count": 200,
   "id": "99fafb84",
   "metadata": {},
   "outputs": [
    {
     "name": "stdout",
     "output_type": "stream",
     "text": [
      "[2 3 4]\n",
      "[2 4 5]\n",
      "2\n",
      "3\n",
      "4\n",
      "2\n",
      "4\n",
      "5\n"
     ]
    }
   ],
   "source": [
    "y= np.array([[2,3,4],[2,4,5]])\n",
    "\n",
    "for j in y:\n",
    "    print(j)\n",
    "    \n",
    "for j in y:\n",
    "    for i in j:\n",
    "        print(i)"
   ]
  },
  {
   "cell_type": "code",
   "execution_count": 201,
   "id": "27694ec9",
   "metadata": {},
   "outputs": [
    {
     "name": "stdout",
     "output_type": "stream",
     "text": [
      "1\n",
      "2\n",
      "3\n",
      "4\n",
      "5\n",
      "6\n",
      "7\n",
      "8\n"
     ]
    }
   ],
   "source": [
    "# avoid for loop again and again\n",
    "arr = np.array([[[1, 2], [3, 4]], [[5, 6], [7, 8]]])\n",
    "\n",
    "for x in np.nditer(arr):\n",
    "  print(x)"
   ]
  },
  {
   "cell_type": "code",
   "execution_count": 202,
   "id": "994ef9db",
   "metadata": {},
   "outputs": [
    {
     "name": "stdout",
     "output_type": "stream",
     "text": [
      "b'1'\n",
      "b'2'\n",
      "b'3'\n"
     ]
    }
   ],
   "source": [
    "arr = np.array([1, 2, 3])\n",
    "\n",
    "for x in np.nditer(arr, flags=['buffered'], op_dtypes=['S']): # data in string\n",
    "  print(x)"
   ]
  },
  {
   "cell_type": "code",
   "execution_count": 203,
   "id": "83d0d3d2",
   "metadata": {},
   "outputs": [
    {
     "name": "stdout",
     "output_type": "stream",
     "text": [
      "1\n",
      "3\n",
      "5\n",
      "7\n"
     ]
    }
   ],
   "source": [
    "arr = np.array([[1, 2, 3, 4], [5, 6, 7, 8]])\n",
    "\n",
    "for x in np.nditer(arr[:, ::2]):\n",
    "  print(x)"
   ]
  },
  {
   "cell_type": "code",
   "execution_count": 204,
   "id": "91bca252",
   "metadata": {},
   "outputs": [
    {
     "name": "stdout",
     "output_type": "stream",
     "text": [
      "(0,) 1\n",
      "(1,) 2\n",
      "(2,) 3\n"
     ]
    }
   ],
   "source": [
    "# value with index in array \n",
    "\n",
    "arr = np.array([1, 2, 3])\n",
    "\n",
    "for idx, x in np.ndenumerate(arr):\n",
    "  print(idx, x)"
   ]
  },
  {
   "cell_type": "code",
   "execution_count": 205,
   "id": "7065b9dd",
   "metadata": {},
   "outputs": [
    {
     "name": "stdout",
     "output_type": "stream",
     "text": [
      "(0, 0) 1\n",
      "(0, 1) 2\n",
      "(0, 2) 3\n",
      "(0, 3) 4\n",
      "(1, 0) 5\n",
      "(1, 1) 6\n",
      "(1, 2) 7\n",
      "(1, 3) 8\n"
     ]
    }
   ],
   "source": [
    "arr = np.array([[1, 2, 3, 4], [5, 6, 7, 8]])\n",
    "\n",
    "for idx, x in np.ndenumerate(arr):\n",
    "  print(idx, x)"
   ]
  },
  {
   "cell_type": "code",
   "execution_count": null,
   "id": "46eb8bb4",
   "metadata": {},
   "outputs": [],
   "source": [
    "# arr = np.array([[[1, 2, 3, 4], [5, 6, 7, 8],[2,3,5,0]]])\n",
    "\n",
    "for idx, x in np.ndenumerate(arr):\n",
    "  print(idx, x)"
   ]
  },
  {
   "cell_type": "markdown",
   "id": "b1c77865",
   "metadata": {},
   "source": [
    "# Copy vs View"
   ]
  },
  {
   "cell_type": "markdown",
   "id": "dbde9aae",
   "metadata": {},
   "source": [
    "The Difference Between Copy and View\n",
    "The main difference between a copy and a view of an array is that the copy is a new array, and the view is just a view of the original array.\n",
    "\n",
    "The copy owns the data and any changes made to the copy will not affect original array, and any changes made to the original array will not affect the copy.\n",
    "\n",
    "The view does not own the data and any changes made to the view will affect the original array, and any changes made to the original array will affect the view."
   ]
  },
  {
   "cell_type": "code",
   "execution_count": 214,
   "id": "250a0efc",
   "metadata": {},
   "outputs": [
    {
     "name": "stdout",
     "output_type": "stream",
     "text": [
      "var [2 3 5]\n",
      "copy [2 3 5]\n"
     ]
    }
   ],
   "source": [
    "var = np.array([2,3,5])\n",
    "\n",
    "co= var.copy()\n",
    "\n",
    "print(\"var\", var)\n",
    "print(\"copy\",co)"
   ]
  },
  {
   "cell_type": "code",
   "execution_count": 216,
   "id": "990d6692",
   "metadata": {},
   "outputs": [
    {
     "name": "stdout",
     "output_type": "stream",
     "text": [
      "[42  2  3  4  5]\n",
      "[1 3 3 4 5]\n"
     ]
    }
   ],
   "source": [
    "var = np.array([1, 2, 3, 4, 5])\n",
    "co = var.copy()\n",
    "var[0] = 42  #change in original not in copy\n",
    "co[1]=3 # change in copy \n",
    "print(var)\n",
    "print(co)"
   ]
  },
  {
   "cell_type": "code",
   "execution_count": 217,
   "id": "199da93c",
   "metadata": {},
   "outputs": [
    {
     "name": "stdout",
     "output_type": "stream",
     "text": [
      "[42  2  3  4  5]\n",
      "[42  2  3  4  5]\n"
     ]
    }
   ],
   "source": [
    "arr = np.array([1, 2, 3, 4, 5])\n",
    "x = arr.view()\n",
    "arr[0] = 42\n",
    "\n",
    "print(arr)\n",
    "print(x)"
   ]
  },
  {
   "cell_type": "code",
   "execution_count": 218,
   "id": "13bd7e89",
   "metadata": {},
   "outputs": [
    {
     "name": "stdout",
     "output_type": "stream",
     "text": [
      "[31  2  3  4  5]\n"
     ]
    }
   ],
   "source": [
    "arr = np.array([1, 2, 3, 4, 5])\n",
    "x = arr.view()\n",
    "x[0] = 31\n",
    "\n",
    "print(arr)"
   ]
  },
  {
   "cell_type": "markdown",
   "id": "d68b46b5",
   "metadata": {},
   "source": [
    "# Joining NumPy Arrays"
   ]
  },
  {
   "cell_type": "markdown",
   "id": "f0b01e72",
   "metadata": {},
   "source": [
    "Joining means putting contents of two or more arrays in a single array.\n",
    "\n",
    "In SQL we join tables based on a key, whereas in NumPy we join arrays by axes."
   ]
  },
  {
   "cell_type": "code",
   "execution_count": 219,
   "id": "f51966ed",
   "metadata": {},
   "outputs": [
    {
     "name": "stdout",
     "output_type": "stream",
     "text": [
      "[1 2 3 4 5 6]\n"
     ]
    }
   ],
   "source": [
    "arr1 = np.array([1, 2, 3])\n",
    "\n",
    "arr2 = np.array([4, 5, 6])\n",
    "\n",
    "arr = np.concatenate((arr1, arr2))\n",
    "\n",
    "print(arr)"
   ]
  },
  {
   "cell_type": "code",
   "execution_count": 220,
   "id": "30767f94",
   "metadata": {},
   "outputs": [
    {
     "name": "stdout",
     "output_type": "stream",
     "text": [
      "[[1 2 5 6]\n",
      " [3 4 7 8]]\n"
     ]
    }
   ],
   "source": [
    "arr1 = np.array([[1, 2], [3, 4]])\n",
    "\n",
    "arr2 = np.array([[5, 6], [7, 8]])\n",
    "\n",
    "arr = np.concatenate((arr1, arr2), axis=1)\n",
    "\n",
    "print(arr)"
   ]
  },
  {
   "cell_type": "code",
   "execution_count": 221,
   "id": "e19b5e5b",
   "metadata": {},
   "outputs": [
    {
     "name": "stdout",
     "output_type": "stream",
     "text": [
      "[[1 2]\n",
      " [3 4]\n",
      " [5 6]\n",
      " [7 8]]\n"
     ]
    }
   ],
   "source": [
    "arr1 = np.array([[1, 2], [3, 4]])\n",
    "\n",
    "arr2 = np.array([[5, 6], [7, 8]])\n",
    "\n",
    "arr = np.concatenate((arr1, arr2), axis=0)\n",
    "\n",
    "print(arr)"
   ]
  },
  {
   "cell_type": "markdown",
   "id": "2933a748",
   "metadata": {},
   "source": [
    "Joining Arrays Using Stack Functions\n",
    "Stacking is same as concatenation, the only difference is that stacking is done along a new axis.\n",
    "\n",
    "We can concatenate two 1-D arrays along the second axis which would result in putting them one over the other, ie. stacking.\n",
    "\n",
    "We pass a sequence of arrays that we want to join to the stack() method along with the axis. If axis is not explicitly passed it is taken as 0."
   ]
  },
  {
   "cell_type": "code",
   "execution_count": 222,
   "id": "7b505a30",
   "metadata": {},
   "outputs": [
    {
     "name": "stdout",
     "output_type": "stream",
     "text": [
      "[[1 4]\n",
      " [2 5]\n",
      " [3 6]]\n"
     ]
    }
   ],
   "source": [
    "arr1 = np.array([1, 2, 3])\n",
    "\n",
    "arr2 = np.array([4, 5, 6])\n",
    "\n",
    "arr = np.stack((arr1, arr2), axis=1)\n",
    "\n",
    "print(arr)"
   ]
  },
  {
   "cell_type": "code",
   "execution_count": 223,
   "id": "aaee4df8",
   "metadata": {},
   "outputs": [
    {
     "name": "stdout",
     "output_type": "stream",
     "text": [
      "[1 2 3 4 5 6]\n"
     ]
    }
   ],
   "source": [
    "arr1 = np.array([1, 2, 3])\n",
    "\n",
    "arr2 = np.array([4, 5, 6])\n",
    "\n",
    "arr = np.hstack((arr1, arr2))\n",
    "\n",
    "print(arr)"
   ]
  },
  {
   "cell_type": "code",
   "execution_count": 224,
   "id": "22df4e28",
   "metadata": {},
   "outputs": [
    {
     "name": "stdout",
     "output_type": "stream",
     "text": [
      "[[1 2 3]\n",
      " [4 5 6]]\n"
     ]
    }
   ],
   "source": [
    "arr1 = np.array([1, 2, 3])\n",
    "\n",
    "arr2 = np.array([4, 5, 6])\n",
    "\n",
    "arr = np.vstack((arr1, arr2))\n",
    "\n",
    "print(arr)"
   ]
  },
  {
   "cell_type": "code",
   "execution_count": 225,
   "id": "1a36fdda",
   "metadata": {},
   "outputs": [
    {
     "name": "stdout",
     "output_type": "stream",
     "text": [
      "[[[1 4]\n",
      "  [2 5]\n",
      "  [3 6]]]\n"
     ]
    }
   ],
   "source": [
    "arr1 = np.array([1, 2, 3])\n",
    "\n",
    "arr2 = np.array([4, 5, 6])\n",
    "\n",
    "arr = np.dstack((arr1, arr2))\n",
    "\n",
    "print(arr)"
   ]
  },
  {
   "cell_type": "markdown",
   "id": "ddfb9b65",
   "metadata": {},
   "source": [
    "Splitting NumPy Arrays\n",
    "Splitting is reverse operation of Joining.\n",
    "\n",
    "Joining merges multiple arrays into one and Splitting breaks one array into multiple.\n",
    "\n",
    "We use array_split() for splitting arrays, we pass it the array we want to split and the number of splits."
   ]
  },
  {
   "cell_type": "code",
   "execution_count": 229,
   "id": "b61b9fed",
   "metadata": {},
   "outputs": [
    {
     "name": "stdout",
     "output_type": "stream",
     "text": [
      "[array([1, 2, 3]), array([4, 5]), array([6, 7])]\n"
     ]
    }
   ],
   "source": [
    "arr = np.array([1, 2, 3, 4, 5, 6,7])\n",
    "\n",
    "newarr = np.array_split(arr, 3) # 3 is no of array\n",
    "\n",
    "print(newarr)"
   ]
  },
  {
   "cell_type": "code",
   "execution_count": 231,
   "id": "638f52bd",
   "metadata": {},
   "outputs": [
    {
     "name": "stdout",
     "output_type": "stream",
     "text": [
      "[array([1, 2]), array([3, 4]), array([5]), array([6])]\n",
      "[1 2]\n"
     ]
    }
   ],
   "source": [
    "arr = np.array([1, 2, 3, 4, 5, 6])\n",
    "\n",
    "newarr = np.array_split(arr, 4)\n",
    "\n",
    "print(newarr)\n",
    "print(newarr[0])"
   ]
  },
  {
   "cell_type": "code",
   "execution_count": 232,
   "id": "6199060e",
   "metadata": {},
   "outputs": [
    {
     "name": "stdout",
     "output_type": "stream",
     "text": [
      "[1 2]\n",
      "[3 4]\n",
      "[5 6]\n"
     ]
    }
   ],
   "source": [
    "arr = np.array([1, 2, 3, 4, 5, 6])\n",
    "\n",
    "newarr = np.array_split(arr, 3)\n",
    "\n",
    "print(newarr[0])\n",
    "print(newarr[1])\n",
    "print(newarr[2])"
   ]
  },
  {
   "cell_type": "code",
   "execution_count": 233,
   "id": "9baa6b01",
   "metadata": {},
   "outputs": [
    {
     "name": "stdout",
     "output_type": "stream",
     "text": [
      "[array([[1, 2],\n",
      "       [3, 4]]), array([[5, 6],\n",
      "       [7, 8]]), array([[ 9, 10],\n",
      "       [11, 12]])]\n"
     ]
    }
   ],
   "source": [
    "arr = np.array([[1, 2], [3, 4], [5, 6], [7, 8], [9, 10], [11, 12]])\n",
    "\n",
    "newarr = np.array_split(arr, 3)\n",
    "\n",
    "print(newarr)"
   ]
  },
  {
   "cell_type": "code",
   "execution_count": 234,
   "id": "a3d98552",
   "metadata": {},
   "outputs": [
    {
     "name": "stdout",
     "output_type": "stream",
     "text": [
      "[array([[1, 2, 3],\n",
      "       [4, 5, 6]]), array([[ 7,  8,  9],\n",
      "       [10, 11, 12]]), array([[13, 14, 15],\n",
      "       [16, 17, 18]])]\n"
     ]
    }
   ],
   "source": [
    "#Split the 2-D array into three 2-D arrays along rows.\n",
    "arr = np.array([[1, 2, 3], [4, 5, 6], [7, 8, 9], [10, 11, 12], [13, 14, 15], [16, 17, 18]])\n",
    "\n",
    "newarr = np.array_split(arr, 3)\n",
    "\n",
    "print(newarr)"
   ]
  },
  {
   "cell_type": "code",
   "execution_count": null,
   "id": "6d66ea15",
   "metadata": {},
   "outputs": [],
   "source": [
    "#Split the 2-D array into three 2-D arrays along rows.\n",
    "arr = np.array([[1, 2, 3], [4, 5, 6], [7, 8, 9], [10, 11, 12], [13, 14, 15], [16, 17, 18]])\n",
    "\n",
    "newarr = np.hsplit(arr, 3)\n",
    "\n",
    "print(newarr)"
   ]
  },
  {
   "cell_type": "code",
   "execution_count": 235,
   "id": "13f52e60",
   "metadata": {},
   "outputs": [
    {
     "name": "stdout",
     "output_type": "stream",
     "text": [
      "[array([[ 1],\n",
      "       [ 4],\n",
      "       [ 7],\n",
      "       [10],\n",
      "       [13],\n",
      "       [16]]), array([[ 2],\n",
      "       [ 5],\n",
      "       [ 8],\n",
      "       [11],\n",
      "       [14],\n",
      "       [17]]), array([[ 3],\n",
      "       [ 6],\n",
      "       [ 9],\n",
      "       [12],\n",
      "       [15],\n",
      "       [18]])]\n"
     ]
    }
   ],
   "source": [
    "#Use the hsplit() method to split the 2-D array into three 2-D arrays along rows.\n",
    "arr = np.array([[1, 2, 3], [4, 5, 6], [7, 8, 9], [10, 11, 12], [13, 14, 15], [16, 17, 18]])\n",
    "\n",
    "newarr = np.hsplit(arr, 3)\n",
    "\n",
    "print(newarr)"
   ]
  },
  {
   "cell_type": "markdown",
   "id": "8c717f51",
   "metadata": {},
   "source": [
    "# Searching Arrays"
   ]
  },
  {
   "cell_type": "markdown",
   "id": "90f36c13",
   "metadata": {},
   "source": [
    "\n",
    "You can search an array for a certain value, and return the indexes that get a match.\n",
    "\n",
    "To search an array, use the where() method."
   ]
  },
  {
   "cell_type": "code",
   "execution_count": 236,
   "id": "441d4984",
   "metadata": {},
   "outputs": [
    {
     "name": "stdout",
     "output_type": "stream",
     "text": [
      "(array([3, 5, 6], dtype=int64),)\n"
     ]
    }
   ],
   "source": [
    "arr = np.array([1, 2, 3, 4, 5, 4, 4])\n",
    "\n",
    "x = np.where(arr == 4) #find index of 4 \n",
    "\n",
    "print(x)"
   ]
  },
  {
   "cell_type": "code",
   "execution_count": 237,
   "id": "a3f4e6b6",
   "metadata": {},
   "outputs": [
    {
     "name": "stdout",
     "output_type": "stream",
     "text": [
      "(array([1, 3, 5, 7], dtype=int64),)\n"
     ]
    }
   ],
   "source": [
    "arr = np.array([1, 2, 3, 4, 5, 6, 7, 8])\n",
    "\n",
    "x = np.where(arr%2 == 0)\n",
    "\n",
    "print(x)"
   ]
  },
  {
   "cell_type": "markdown",
   "id": "aafbcb29",
   "metadata": {},
   "source": [
    "Search Sorted\n",
    "There is a method called searchsorted() which performs a binary search in the array, and returns the index where the specified value would be inserted to maintain the search order.\n",
    "\n",
    "The searchsorted() method is assumed to be used on sorted arrays"
   ]
  },
  {
   "cell_type": "code",
   "execution_count": 238,
   "id": "7a75da88",
   "metadata": {},
   "outputs": [
    {
     "name": "stdout",
     "output_type": "stream",
     "text": [
      "1\n"
     ]
    }
   ],
   "source": [
    "arr = np.array([6, 7, 8, 9])\n",
    "\n",
    "x = np.searchsorted(arr, 7)\n",
    "\n",
    "print(x)"
   ]
  },
  {
   "cell_type": "code",
   "execution_count": 239,
   "id": "cc6fe1df",
   "metadata": {},
   "outputs": [
    {
     "name": "stdout",
     "output_type": "stream",
     "text": [
      "2\n"
     ]
    }
   ],
   "source": [
    "arr = np.array([6, 7, 8, 9])\n",
    "\n",
    "x = np.searchsorted(arr, 7, side='right')\n",
    "\n",
    "print(x)"
   ]
  },
  {
   "cell_type": "code",
   "execution_count": 241,
   "id": "899393a3",
   "metadata": {
    "scrolled": true
   },
   "outputs": [
    {
     "name": "stdout",
     "output_type": "stream",
     "text": [
      "[1 2 3]\n"
     ]
    }
   ],
   "source": [
    "arr = np.array([1, 3, 5, 7])\n",
    "\n",
    "x = np.searchsorted(arr, [2, 4, 6]) # kis variable ko kaha uplaod kar sakte hai \n",
    "\n",
    "print(x)"
   ]
  },
  {
   "cell_type": "markdown",
   "id": "315fc1b7",
   "metadata": {},
   "source": [
    "Sorting Arrays\n",
    "Sorting means putting elements in an ordered sequence.\n",
    "\n",
    "Ordered sequence is any sequence that has an order corresponding to elements, like numeric or alphabetical, ascending or descending.\n",
    "\n",
    "The NumPy ndarray object has a function called sort(), that will sort a specified array."
   ]
  },
  {
   "cell_type": "code",
   "execution_count": 242,
   "id": "529abb62",
   "metadata": {},
   "outputs": [
    {
     "name": "stdout",
     "output_type": "stream",
     "text": [
      "[0 1 2 3]\n"
     ]
    }
   ],
   "source": [
    "arr = np.array([3, 2, 0, 1])\n",
    "\n",
    "print(np.sort(arr))"
   ]
  },
  {
   "cell_type": "code",
   "execution_count": 243,
   "id": "5921ffb9",
   "metadata": {},
   "outputs": [
    {
     "name": "stdout",
     "output_type": "stream",
     "text": [
      "['apple' 'banana' 'cherry']\n"
     ]
    }
   ],
   "source": [
    "arr = np.array(['banana', 'cherry', 'apple'])\n",
    "\n",
    "print(np.sort(arr))"
   ]
  },
  {
   "cell_type": "code",
   "execution_count": 244,
   "id": "49490f16",
   "metadata": {},
   "outputs": [
    {
     "name": "stdout",
     "output_type": "stream",
     "text": [
      "[False  True  True]\n"
     ]
    }
   ],
   "source": [
    "arr = np.array([True, False, True])\n",
    "\n",
    "print(np.sort(arr))"
   ]
  },
  {
   "cell_type": "code",
   "execution_count": 245,
   "id": "2b0d3a59",
   "metadata": {},
   "outputs": [
    {
     "name": "stdout",
     "output_type": "stream",
     "text": [
      "[[2 3 4]\n",
      " [0 1 5]]\n"
     ]
    }
   ],
   "source": [
    "arr = np.array([[3, 2, 4], [5, 0, 1]])\n",
    "\n",
    "print(np.sort(arr))"
   ]
  },
  {
   "cell_type": "markdown",
   "id": "e852dcbe",
   "metadata": {},
   "source": [
    "Filtering Arrays\n",
    "Getting some elements out of an existing array and creating a new array out of them is called filtering.\n",
    "\n",
    "In NumPy, you filter an array using a boolean index list.\n",
    "\n",
    "A boolean index list is a list of booleans corresponding to indexes in the array.\n",
    "\n",
    "If the value at an index is True that element is contained in the filtered array, if the value at that index is False that element is excluded from the filtered array."
   ]
  },
  {
   "cell_type": "code",
   "execution_count": 246,
   "id": "04b789db",
   "metadata": {},
   "outputs": [
    {
     "name": "stdout",
     "output_type": "stream",
     "text": [
      "[41 43]\n"
     ]
    }
   ],
   "source": [
    "arr = np.array([41, 42, 43, 44])\n",
    "\n",
    "x = [True, False, True, False]\n",
    "\n",
    "newarr = arr[x]\n",
    "\n",
    "print(newarr)"
   ]
  },
  {
   "cell_type": "code",
   "execution_count": 247,
   "id": "3b55e5b3",
   "metadata": {},
   "outputs": [
    {
     "name": "stdout",
     "output_type": "stream",
     "text": [
      "[False, False, True, True]\n",
      "[43 44]\n"
     ]
    }
   ],
   "source": [
    "arr = np.array([41, 42, 43, 44])\n",
    "\n",
    "# Create an empty list\n",
    "filter_arr = []\n",
    "\n",
    "# go through each element in arr\n",
    "for element in arr:\n",
    "  # if the element is higher than 42, set the value to True, otherwise False:\n",
    "  if element > 42:\n",
    "    filter_arr.append(True)\n",
    "  else:\n",
    "    filter_arr.append(False)\n",
    "\n",
    "newarr = arr[filter_arr]\n",
    "\n",
    "print(filter_arr)\n",
    "print(newarr)"
   ]
  },
  {
   "cell_type": "code",
   "execution_count": 248,
   "id": "f3f36190",
   "metadata": {},
   "outputs": [
    {
     "name": "stdout",
     "output_type": "stream",
     "text": [
      "[False, True, False, True, False, True, False]\n",
      "[2 4 6]\n"
     ]
    }
   ],
   "source": [
    "arr = np.array([1, 2, 3, 4, 5, 6, 7])\n",
    "\n",
    "# Create an empty list\n",
    "filter_arr = []\n",
    "\n",
    "# go through each element in arr\n",
    "for element in arr:\n",
    "  # if the element is completely divisble by 2, set the value to True, otherwise False\n",
    "  if element % 2 == 0:\n",
    "    filter_arr.append(True)\n",
    "  else:\n",
    "    filter_arr.append(False)\n",
    "\n",
    "newarr = arr[filter_arr]\n",
    "\n",
    "print(filter_arr)\n",
    "print(newarr)"
   ]
  },
  {
   "cell_type": "markdown",
   "id": "b87f6925",
   "metadata": {},
   "source": [
    "Creating Filter Directly From Array\n",
    "The above example is quite a common task in NumPy and NumPy provides a nice way to tackle it.\n",
    "\n",
    "We can directly substitute the array instead of the iterable variable in our condition and it will work just as we expect it to."
   ]
  },
  {
   "cell_type": "code",
   "execution_count": 249,
   "id": "1a1f4d29",
   "metadata": {},
   "outputs": [
    {
     "name": "stdout",
     "output_type": "stream",
     "text": [
      "[False False  True  True]\n",
      "[43 44]\n"
     ]
    }
   ],
   "source": [
    "arr = np.array([41, 42, 43, 44])\n",
    "\n",
    "filter_arr = arr > 42\n",
    "\n",
    "newarr = arr[filter_arr]\n",
    "\n",
    "print(filter_arr)\n",
    "print(newarr)"
   ]
  },
  {
   "cell_type": "code",
   "execution_count": 250,
   "id": "5defc15a",
   "metadata": {},
   "outputs": [
    {
     "name": "stdout",
     "output_type": "stream",
     "text": [
      "[False  True False  True False  True False]\n",
      "[2 4 6]\n"
     ]
    }
   ],
   "source": [
    "arr = np.array([1, 2, 3, 4, 5, 6, 7])\n",
    "\n",
    "filter_arr = arr % 2 == 0\n",
    "\n",
    "newarr = arr[filter_arr]\n",
    "\n",
    "print(filter_arr)\n",
    "print(newarr)"
   ]
  },
  {
   "cell_type": "code",
   "execution_count": 251,
   "id": "957f5a92",
   "metadata": {},
   "outputs": [
    {
     "name": "stdout",
     "output_type": "stream",
     "text": [
      "[2 5 3 1 4]\n"
     ]
    }
   ],
   "source": [
    "#shuffle function\n",
    "\n",
    "arr= np.array([1,2,3,4,5])\n",
    "\n",
    "np.random.shuffle(arr)\n",
    "print(arr) #leave the arrangment"
   ]
  },
  {
   "cell_type": "code",
   "execution_count": 252,
   "id": "326832f5",
   "metadata": {},
   "outputs": [
    {
     "name": "stdout",
     "output_type": "stream",
     "text": [
      "[3 4 1 5 2]\n"
     ]
    }
   ],
   "source": [
    "arr= np.array([1,2,3,4,5])\n",
    "\n",
    "np.random.shuffle(arr)\n",
    "print(arr)"
   ]
  },
  {
   "cell_type": "code",
   "execution_count": 253,
   "id": "bbacaeb2",
   "metadata": {},
   "outputs": [
    {
     "name": "stdout",
     "output_type": "stream",
     "text": [
      "[1 2 3 4]\n"
     ]
    }
   ],
   "source": [
    "#unique \n",
    "\n",
    "arr=np.array([1,2,4,2,4,3,2,2,2])\n",
    "\n",
    "x= np.unique(arr)\n",
    "print(x)"
   ]
  },
  {
   "cell_type": "code",
   "execution_count": 254,
   "id": "e87fcc85",
   "metadata": {},
   "outputs": [
    {
     "name": "stdout",
     "output_type": "stream",
     "text": [
      "(array([1, 2, 3, 4]), array([0, 1, 5, 2], dtype=int64))\n"
     ]
    }
   ],
   "source": [
    "arr=np.array([1,2,4,2,4,3,2,2,2])\n",
    "\n",
    "x= np.unique(arr,return_index= True )\n",
    "print(x)"
   ]
  },
  {
   "cell_type": "code",
   "execution_count": 266,
   "id": "c78d0557",
   "metadata": {},
   "outputs": [
    {
     "name": "stdout",
     "output_type": "stream",
     "text": [
      "(array([1, 2, 3, 4]), array([0, 1, 5, 2], dtype=int64), array([1, 5, 1, 2], dtype=int64))\n"
     ]
    }
   ],
   "source": [
    "arr=np.array([1,2,4,2,4,3,2,2,2])\n",
    "\n",
    "x= np.unique(arr,return_index= True , return_counts= True)\n",
    "print(x)"
   ]
  },
  {
   "cell_type": "code",
   "execution_count": 276,
   "id": "5dca2071",
   "metadata": {},
   "outputs": [
    {
     "name": "stdout",
     "output_type": "stream",
     "text": [
      "[[2 3 5]\n",
      " [2 7 8]]\n"
     ]
    }
   ],
   "source": [
    "arr1 = np.array([2,3,5,2,7,8,9,6,7])\n",
    "resize= np.resize(arr1,(2,3))\n",
    "print(resize)  "
   ]
  },
  {
   "cell_type": "markdown",
   "id": "bedf39c6",
   "metadata": {},
   "source": [
    "flatten order reduce \n",
    "order {C, F,a, k"
   ]
  },
  {
   "cell_type": "code",
   "execution_count": 270,
   "id": "8409589d",
   "metadata": {},
   "outputs": [
    {
     "name": "stdout",
     "output_type": "stream",
     "text": [
      "[[ 1  2]\n",
      " [ 3  4]\n",
      " [ 5  6]\n",
      " [ 7  8]\n",
      " [ 9 10]\n",
      " [11 12]]\n",
      "[ 1  2  3  4  5  6  7  8  9 10 11 12]\n"
     ]
    }
   ],
   "source": [
    "arr = np.array([[1, 2], [3, 4], [5, 6], [7, 8], [9, 10], [11, 12]])\n",
    "print(arr)\n",
    "print(arr.flatten())\n"
   ]
  },
  {
   "cell_type": "code",
   "execution_count": 274,
   "id": "6783ecf7",
   "metadata": {},
   "outputs": [
    {
     "name": "stdout",
     "output_type": "stream",
     "text": [
      "[[1 3]\n",
      " [4 5]\n",
      " [7 8]]\n",
      "[1 3 4 5 7 8]\n"
     ]
    }
   ],
   "source": [
    "arr = np.array([1,3,4,5,7,8,9])\n",
    "resize= np.resize(arr,(3,2))\n",
    "print(resize)\n",
    "print(resize.flatten())"
   ]
  },
  {
   "cell_type": "code",
   "execution_count": 279,
   "id": "bd8e974a",
   "metadata": {},
   "outputs": [
    {
     "name": "stdout",
     "output_type": "stream",
     "text": [
      "[[1 3]\n",
      " [4 5]\n",
      " [7 8]]\n",
      "Flatten [1 4 7 3 5 8]\n",
      "ravel [1 4 7 3 5 8]\n",
      "Flatten [1 3 4 5 7 8]\n",
      "ravel [1 3 4 5 7 8]\n",
      "Flatten [1 3 4 5 7 8]\n",
      "ravel [1 3 4 5 7 8]\n"
     ]
    }
   ],
   "source": [
    "arr = np.array([1,3,4,5,7,8,9])\n",
    "resize= np.resize(arr,(3,2))\n",
    "print(resize)\n",
    "print(\"Flatten\",resize.flatten(order= 'F'))\n",
    "print(\"ravel\",np.ravel(resize,order= 'F'))\n",
    "print(\"Flatten\",resize.flatten(order= 'A'))\n",
    "print(\"ravel\",np.ravel(resize,order= 'A'))\n",
    "print(\"Flatten\",resize.flatten(order= 'C'))\n",
    "print(\"ravel\",np.ravel(resize,order= 'C'))"
   ]
  },
  {
   "cell_type": "markdown",
   "id": "410679ff",
   "metadata": {},
   "source": [
    "# insert dunction"
   ]
  },
  {
   "cell_type": "code",
   "execution_count": 288,
   "id": "88ea3d43",
   "metadata": {},
   "outputs": [
    {
     "name": "stdout",
     "output_type": "stream",
     "text": [
      "[1 2 3 4]\n",
      "int32\n",
      "[1 5 2 3 4]\n",
      "[1 9 2 3 9 4]\n",
      "[1 9 2 3 9 4]\n"
     ]
    }
   ],
   "source": [
    "arr= np.array([1,2,3,4])\n",
    "\n",
    "print(arr)\n",
    "print(arr.dtype)\n",
    "\n",
    "v= np.insert(arr,1,5) #(name,postion, value)\n",
    "print(v)\n",
    "\n",
    "v1= np.insert(arr,(1,3),9) #(name,postion, value)\n",
    "print(v1)\n",
    "\n",
    "v2= np.insert(arr,(1,3),9.5) #(name,postion, value)\n",
    "print(v2)"
   ]
  },
  {
   "cell_type": "code",
   "execution_count": 290,
   "id": "40ff5686",
   "metadata": {},
   "outputs": [
    {
     "name": "stdout",
     "output_type": "stream",
     "text": [
      "[[1 2 3]\n",
      " [6 6 6]\n",
      " [2 3 5]]\n"
     ]
    }
   ],
   "source": [
    "a= np.array([[1,2,3],[2,3,5]])\n",
    "\n",
    "v5= np.insert(a,1,6,axis=0) #(name,postion, value)\n",
    "print(v5)"
   ]
  },
  {
   "cell_type": "code",
   "execution_count": 291,
   "id": "998994b0",
   "metadata": {},
   "outputs": [
    {
     "name": "stdout",
     "output_type": "stream",
     "text": [
      "[[1 6 2 3]\n",
      " [2 6 3 5]]\n"
     ]
    }
   ],
   "source": [
    "a= np.array([[1,2,3],[2,3,5]])\n",
    "\n",
    "v5= np.insert(a,1,6,axis=1) #(name,postion, value)\n",
    "print(v5)"
   ]
  },
  {
   "cell_type": "code",
   "execution_count": 293,
   "id": "d0712dee",
   "metadata": {},
   "outputs": [
    {
     "name": "stdout",
     "output_type": "stream",
     "text": [
      "[[ 1  2  3]\n",
      " [22  6  7]\n",
      " [ 2  3  5]]\n"
     ]
    }
   ],
   "source": [
    "a= np.array([[1,2,3],[2,3,5]])\n",
    "\n",
    "v5= np.insert(a,1,[22,6,7],axis=0) #(name,postion, value)\n",
    "print(v5)"
   ]
  },
  {
   "cell_type": "code",
   "execution_count": 295,
   "id": "b29faae0",
   "metadata": {},
   "outputs": [
    {
     "name": "stdout",
     "output_type": "stream",
     "text": [
      "[1.  2.  3.  2.  3.  5.  6.5]\n"
     ]
    }
   ],
   "source": [
    "a= np.array([1,2,3,2,3,5])\n",
    "\n",
    "v5= np.append(a,6.5) \n",
    "print(v5)"
   ]
  },
  {
   "cell_type": "code",
   "execution_count": 296,
   "id": "afb944c4",
   "metadata": {},
   "outputs": [
    {
     "name": "stdout",
     "output_type": "stream",
     "text": [
      "[ 1  2  3  2  3  5 23  3  6]\n"
     ]
    }
   ],
   "source": [
    "a= np.array([[1,2,3],[2,3,5]])\n",
    "\n",
    "v5= np.append(a,[23,3,6]) \n",
    "print(v5)"
   ]
  },
  {
   "cell_type": "code",
   "execution_count": 298,
   "id": "1b73fffc",
   "metadata": {},
   "outputs": [
    {
     "name": "stdout",
     "output_type": "stream",
     "text": [
      "[1 2 3 2 3 5]\n",
      "[1 2 3 3 5]\n"
     ]
    }
   ],
   "source": [
    "a= np.array([1,2,3,2,3,5])\n",
    " \n",
    "print(a)\n",
    "d= np.delete(a,3)\n",
    "print(d)"
   ]
  },
  {
   "cell_type": "code",
   "execution_count": 302,
   "id": "8b37d7e6",
   "metadata": {},
   "outputs": [
    {
     "name": "stdout",
     "output_type": "stream",
     "text": [
      "[[1 2 3]\n",
      " [2 4 5]]\n",
      "<class 'numpy.matrix'>\n"
     ]
    }
   ],
   "source": [
    "# matrix in numpy array\n",
    "\n",
    "arr= np.matrix([[1,2,3],[2,4,5]])\n",
    "print(arr)\n",
    "print(type(arr))\n",
    "\n",
    "\n"
   ]
  },
  {
   "cell_type": "code",
   "execution_count": 304,
   "id": "411c15a8",
   "metadata": {},
   "outputs": [
    {
     "name": "stdout",
     "output_type": "stream",
     "text": [
      "[[1 2 3]\n",
      " [2 4 5]]\n",
      "<class 'numpy.ndarray'>\n"
     ]
    }
   ],
   "source": [
    "arr= np.array([[1,2,3],[2,4,5]])\n",
    "print(arr)\n",
    "print(type(arr))"
   ]
  },
  {
   "cell_type": "code",
   "execution_count": 305,
   "id": "d25a03cd",
   "metadata": {},
   "outputs": [
    {
     "name": "stdout",
     "output_type": "stream",
     "text": [
      "[[ 2  4  6]\n",
      " [ 4  8 10]]\n"
     ]
    }
   ],
   "source": [
    "arr1= np.matrix([[1,2,3],[2,4,5]])\n",
    "arr2= np.matrix([[1,2,3],[2,4,5]])\n",
    "\n",
    "print(arr1+arr2)"
   ]
  },
  {
   "cell_type": "code",
   "execution_count": 306,
   "id": "b7844462",
   "metadata": {},
   "outputs": [
    {
     "ename": "ValueError",
     "evalue": "shapes (2,3) and (2,3) not aligned: 3 (dim 1) != 2 (dim 0)",
     "output_type": "error",
     "traceback": [
      "\u001b[1;31m---------------------------------------------------------------------------\u001b[0m",
      "\u001b[1;31mValueError\u001b[0m                                Traceback (most recent call last)",
      "Input \u001b[1;32mIn [306]\u001b[0m, in \u001b[0;36m<cell line: 4>\u001b[1;34m()\u001b[0m\n\u001b[0;32m      1\u001b[0m arr1\u001b[38;5;241m=\u001b[39m np\u001b[38;5;241m.\u001b[39mmatrix([[\u001b[38;5;241m1\u001b[39m,\u001b[38;5;241m2\u001b[39m,\u001b[38;5;241m3\u001b[39m],[\u001b[38;5;241m2\u001b[39m,\u001b[38;5;241m4\u001b[39m,\u001b[38;5;241m5\u001b[39m]])\n\u001b[0;32m      2\u001b[0m arr2\u001b[38;5;241m=\u001b[39m np\u001b[38;5;241m.\u001b[39mmatrix([[\u001b[38;5;241m1\u001b[39m,\u001b[38;5;241m2\u001b[39m,\u001b[38;5;241m3\u001b[39m],[\u001b[38;5;241m2\u001b[39m,\u001b[38;5;241m4\u001b[39m,\u001b[38;5;241m5\u001b[39m]])\n\u001b[1;32m----> 4\u001b[0m \u001b[38;5;28mprint\u001b[39m(\u001b[43marr1\u001b[49m\u001b[38;5;241;43m*\u001b[39;49m\u001b[43marr2\u001b[49m)\n",
      "File \u001b[1;32m~\\anaconda3\\lib\\site-packages\\numpy\\matrixlib\\defmatrix.py:218\u001b[0m, in \u001b[0;36mmatrix.__mul__\u001b[1;34m(self, other)\u001b[0m\n\u001b[0;32m    215\u001b[0m \u001b[38;5;28;01mdef\u001b[39;00m \u001b[38;5;21m__mul__\u001b[39m(\u001b[38;5;28mself\u001b[39m, other):\n\u001b[0;32m    216\u001b[0m     \u001b[38;5;28;01mif\u001b[39;00m \u001b[38;5;28misinstance\u001b[39m(other, (N\u001b[38;5;241m.\u001b[39mndarray, \u001b[38;5;28mlist\u001b[39m, \u001b[38;5;28mtuple\u001b[39m)) :\n\u001b[0;32m    217\u001b[0m         \u001b[38;5;66;03m# This promotes 1-D vectors to row vectors\u001b[39;00m\n\u001b[1;32m--> 218\u001b[0m         \u001b[38;5;28;01mreturn\u001b[39;00m \u001b[43mN\u001b[49m\u001b[38;5;241;43m.\u001b[39;49m\u001b[43mdot\u001b[49m\u001b[43m(\u001b[49m\u001b[38;5;28;43mself\u001b[39;49m\u001b[43m,\u001b[49m\u001b[43m \u001b[49m\u001b[43masmatrix\u001b[49m\u001b[43m(\u001b[49m\u001b[43mother\u001b[49m\u001b[43m)\u001b[49m\u001b[43m)\u001b[49m\n\u001b[0;32m    219\u001b[0m     \u001b[38;5;28;01mif\u001b[39;00m isscalar(other) \u001b[38;5;129;01mor\u001b[39;00m \u001b[38;5;129;01mnot\u001b[39;00m \u001b[38;5;28mhasattr\u001b[39m(other, \u001b[38;5;124m'\u001b[39m\u001b[38;5;124m__rmul__\u001b[39m\u001b[38;5;124m'\u001b[39m) :\n\u001b[0;32m    220\u001b[0m         \u001b[38;5;28;01mreturn\u001b[39;00m N\u001b[38;5;241m.\u001b[39mdot(\u001b[38;5;28mself\u001b[39m, other)\n",
      "File \u001b[1;32m<__array_function__ internals>:5\u001b[0m, in \u001b[0;36mdot\u001b[1;34m(*args, **kwargs)\u001b[0m\n",
      "\u001b[1;31mValueError\u001b[0m: shapes (2,3) and (2,3) not aligned: 3 (dim 1) != 2 (dim 0)"
     ]
    }
   ],
   "source": [
    "arr1= np.matrix([[1,2,3],[2,4,5]])\n",
    "arr2= np.matrix([[1,2,3],[2,4,5]])\n",
    "\n",
    "print(arr1*arr2)"
   ]
  },
  {
   "cell_type": "code",
   "execution_count": 308,
   "id": "e8bd7336",
   "metadata": {},
   "outputs": [
    {
     "name": "stdout",
     "output_type": "stream",
     "text": [
      "[[14 22 28]\n",
      " [25 40 51]\n",
      " [20 32 41]]\n"
     ]
    }
   ],
   "source": [
    "arr1= np.matrix([[1,2,3],[2,4,5],[2,3,4]])\n",
    "arr2= np.matrix([[1,2,3],[2,4,5],[3,4,5]])\n",
    "\n",
    "print(arr1*arr2)"
   ]
  },
  {
   "cell_type": "code",
   "execution_count": 309,
   "id": "f28429f5",
   "metadata": {},
   "outputs": [
    {
     "name": "stdout",
     "output_type": "stream",
     "text": [
      "[[ 1  4  9]\n",
      " [ 4 16 25]\n",
      " [ 6 12 20]]\n"
     ]
    }
   ],
   "source": [
    "arr1= np.array([[1,2,3],[2,4,5],[2,3,4]])\n",
    "arr2= np.array([[1,2,3],[2,4,5],[3,4,5]])\n",
    "\n",
    "print(arr1*arr2)"
   ]
  },
  {
   "cell_type": "markdown",
   "id": "816edf45",
   "metadata": {},
   "source": [
    "matrix function \n",
    "Transpose\n",
    "swapaxes\n",
    "inverse \n",
    "power\n",
    "determinate "
   ]
  },
  {
   "cell_type": "code",
   "execution_count": 319,
   "id": "73dd02a5",
   "metadata": {},
   "outputs": [
    {
     "name": "stdout",
     "output_type": "stream",
     "text": [
      "[[1 2 3]\n",
      " [2 4 5]\n",
      " [7 8 9]]\n",
      "\n",
      "\n",
      "[[1 2 7]\n",
      " [2 4 8]\n",
      " [3 5 9]]\n",
      "\n",
      "[[1 2 7]\n",
      " [2 4 8]\n",
      " [3 5 9]]\n",
      "\n",
      "[[1 2 3]\n",
      " [2 4 5]\n",
      " [7 8 9]]\n",
      "\n",
      "[[1 2 7]\n",
      " [2 4 8]\n",
      " [3 5 9]]\n"
     ]
    }
   ],
   "source": [
    "arr1= np.array([[1,2,3],[2,4,5],[7,8,9]])\n",
    "arr2= np.array([[1,2,3],[2,4,5],[3,4,5]])\n",
    "print(arr1)\n",
    "print()\n",
    "# print(arr2)\n",
    "print()\n",
    "v= np.transpose(arr1)\n",
    "print(v)\n",
    "\n",
    "\n",
    "#othere way\n",
    "print()\n",
    "print(arr1.T)\n",
    "print()\n",
    "print(arr1)\n",
    "print()\n",
    "print(np.swapaxes(arr1,0,1))"
   ]
  },
  {
   "cell_type": "code",
   "execution_count": 320,
   "id": "4105e369",
   "metadata": {},
   "outputs": [
    {
     "name": "stdout",
     "output_type": "stream",
     "text": [
      "[[1 2]\n",
      " [7 5]]\n",
      "\n",
      "[[-0.55555556  0.22222222]\n",
      " [ 0.77777778 -0.11111111]]\n"
     ]
    }
   ],
   "source": [
    "arr1= np.array([[1,2],[7,5]])\n",
    "print(arr1)\n",
    "print()\n",
    "v= np.linalg.inv(arr1)\n",
    "print(v)"
   ]
  },
  {
   "cell_type": "code",
   "execution_count": 324,
   "id": "5abac960",
   "metadata": {},
   "outputs": [
    {
     "name": "stdout",
     "output_type": "stream",
     "text": [
      "[[1 2]\n",
      " [3 2]]\n",
      "\n",
      "[[ 7  6]\n",
      " [ 9 10]]\n",
      "\n",
      "[[ 0.625  -0.375 ]\n",
      " [-0.5625  0.4375]]\n",
      "\n",
      "[[1 0]\n",
      " [0 1]]\n",
      "\n"
     ]
    }
   ],
   "source": [
    "arr1= np.matrix([[1,2],[3,2]])\n",
    "print(arr1)\n",
    "print()\n",
    "v= np.linalg.matrix_power(arr1,2)\n",
    "print(v)\n",
    "print()\n",
    "\n",
    "v= np.linalg.matrix_power(arr1,-2)\n",
    "print(v)\n",
    "print()\n",
    "\n",
    "v= np.linalg.matrix_power(arr1,0)\n",
    "print(v)\n",
    "print()"
   ]
  },
  {
   "cell_type": "code",
   "execution_count": 330,
   "id": "a426487e",
   "metadata": {},
   "outputs": [
    {
     "name": "stdout",
     "output_type": "stream",
     "text": [
      "[[1 2 3]\n",
      " [8 4 5]\n",
      " [7 8 9]]\n",
      "\n",
      "30.000000000000004\n",
      "\n",
      "[[1 9 3]\n",
      " [3 4 5]\n",
      " [3 8 5]]\n",
      "\n",
      "16.000000000000007\n"
     ]
    }
   ],
   "source": [
    "arr1= np.array([[1,2,3],[8,4,5],[7,8,9]])\n",
    "arr2= np.array([[1,9,3],[3,4,5],[3,8,5]])\n",
    "print(arr1)\n",
    "print()\n",
    "v1= np.linalg.det(arr1)\n",
    "print(v1)\n",
    "print()\n",
    "\n",
    "\n",
    "print(arr2)\n",
    "print()\n",
    "\n",
    "v2= np.linalg.det(arr2)\n",
    "print(v2)\n"
   ]
  },
  {
   "cell_type": "code",
   "execution_count": null,
   "id": "aeb8da0a",
   "metadata": {},
   "outputs": [],
   "source": []
  },
  {
   "cell_type": "markdown",
   "id": "155ee9e6",
   "metadata": {},
   "source": [
    "# youtube "
   ]
  },
  {
   "cell_type": "code",
   "execution_count": 41,
   "id": "03cc2e1a",
   "metadata": {},
   "outputs": [
    {
     "name": "stdout",
     "output_type": "stream",
     "text": [
      "enter:12\n",
      "enter:3\n",
      "enter:3\n",
      "enter:3\n",
      "[12  3  3  3]\n"
     ]
    }
   ],
   "source": [
    "l=[]\n",
    "for i in range(1,5):\n",
    "        int_1= int(input('enter:'))\n",
    "        l.append(int_1)\n",
    "print(np.array(l))"
   ]
  },
  {
   "cell_type": "code",
   "execution_count": 44,
   "id": "b5aacc9e",
   "metadata": {},
   "outputs": [
    {
     "name": "stdout",
     "output_type": "stream",
     "text": [
      "[0. 0. 0. 0.]\n"
     ]
    }
   ],
   "source": [
    "#zero dim array\n",
    "ar_zero= np.zeros(4)\n",
    "print(ar_zero)"
   ]
  },
  {
   "cell_type": "code",
   "execution_count": 45,
   "id": "538b94eb",
   "metadata": {},
   "outputs": [
    {
     "name": "stdout",
     "output_type": "stream",
     "text": [
      "[0. 0. 0. 0.]\n",
      "[0. 0. 0. 0.]\n",
      "\n",
      "[[0. 0. 0. 0.]\n",
      " [0. 0. 0. 0.]\n",
      " [0. 0. 0. 0.]]\n"
     ]
    }
   ],
   "source": [
    "ar_zero= np.zeros(4)\n",
    "\n",
    "ar_zero1= np.zeros((3,4))\n",
    "\n",
    "print(ar_zero)\n",
    "print()\n",
    "print(ar_zero1)"
   ]
  },
  {
   "cell_type": "code",
   "execution_count": 46,
   "id": "27b5b14d",
   "metadata": {},
   "outputs": [
    {
     "name": "stdout",
     "output_type": "stream",
     "text": [
      "[1. 1. 1. 1.]\n",
      "\n",
      "[[1. 1. 1. 1.]\n",
      " [1. 1. 1. 1.]\n",
      " [1. 1. 1. 1.]]\n"
     ]
    }
   ],
   "source": [
    "ar_one= np.ones(4)\n",
    "ar_ones1= np.ones((3,4))\n",
    "\n",
    "print(ar_one)\n",
    "print()\n",
    "print(ar_ones1)"
   ]
  },
  {
   "cell_type": "code",
   "execution_count": 48,
   "id": "73624e41",
   "metadata": {},
   "outputs": [
    {
     "name": "stdout",
     "output_type": "stream",
     "text": [
      "[1. 1. 1. 1.]\n"
     ]
    }
   ],
   "source": [
    "ar_one= np.ones(4)\n",
    "print(ar_one)"
   ]
  },
  {
   "cell_type": "code",
   "execution_count": 50,
   "id": "26e4169b",
   "metadata": {},
   "outputs": [
    {
     "name": "stdout",
     "output_type": "stream",
     "text": [
      "[1. 1. 1. 1.]\n"
     ]
    }
   ],
   "source": [
    "ar = np.empty(4) # note here empty arrray store previous entry and give it\n",
    "print(ar)"
   ]
  },
  {
   "cell_type": "code",
   "execution_count": 51,
   "id": "b41c524b",
   "metadata": {},
   "outputs": [
    {
     "name": "stdout",
     "output_type": "stream",
     "text": [
      "[0 1 2 3]\n"
     ]
    }
   ],
   "source": [
    "ar_range = np.arange(4)\n",
    "print(ar_range)"
   ]
  },
  {
   "cell_type": "code",
   "execution_count": 52,
   "id": "52a8fd8d",
   "metadata": {},
   "outputs": [
    {
     "name": "stdout",
     "output_type": "stream",
     "text": [
      "[[1. 0. 0. 0.]\n",
      " [0. 1. 0. 0.]\n",
      " [0. 0. 1. 0.]\n",
      " [0. 0. 0. 1.]]\n"
     ]
    }
   ],
   "source": [
    "# diagonal \n",
    "ar_dia = np.eye(4)\n",
    "print(ar_dia)"
   ]
  },
  {
   "cell_type": "code",
   "execution_count": 53,
   "id": "78af07ab",
   "metadata": {},
   "outputs": [
    {
     "name": "stdout",
     "output_type": "stream",
     "text": [
      "[[1. 0. 0. 0. 0. 0. 0.]\n",
      " [0. 1. 0. 0. 0. 0. 0.]\n",
      " [0. 0. 1. 0. 0. 0. 0.]\n",
      " [0. 0. 0. 1. 0. 0. 0.]]\n"
     ]
    }
   ],
   "source": [
    "# diagonal \n",
    "ar_dia = np.eye(4,7)\n",
    "print(ar_dia)"
   ]
  },
  {
   "cell_type": "code",
   "execution_count": 54,
   "id": "9e76c351",
   "metadata": {},
   "outputs": [
    {
     "name": "stdout",
     "output_type": "stream",
     "text": [
      "[ 0.  5. 10. 15. 20.]\n"
     ]
    }
   ],
   "source": [
    "#linspace \n",
    "ar_lin= np.linspace(0,20, num=5)\n",
    "print(ar_lin)"
   ]
  },
  {
   "cell_type": "markdown",
   "id": "626cf383",
   "metadata": {},
   "source": [
    "# random"
   ]
  },
  {
   "cell_type": "code",
   "execution_count": 56,
   "id": "7e0818a7",
   "metadata": {},
   "outputs": [
    {
     "name": "stdout",
     "output_type": "stream",
     "text": [
      "[0.95159197 0.22069219 0.9092944  0.36239803]\n"
     ]
    }
   ],
   "source": [
    "#rand():    the function is used to generate a random betwwen 0 t 1 \n",
    "#randn()    close to zero , postive negative both vale \n",
    "#anf(): [0.0,1.0)\n",
    "#randint(): range between to values \n",
    "\n",
    "\n",
    "var= np.random.rand(4) # four dim array all values lies in betwwen 0 to 1\n",
    "print(var)"
   ]
  },
  {
   "cell_type": "code",
   "execution_count": 58,
   "id": "df65d559",
   "metadata": {},
   "outputs": [
    {
     "name": "stdout",
     "output_type": "stream",
     "text": [
      "[[0.73552332 0.01171542 0.37812616 0.69009241 0.72831374]\n",
      " [0.69073124 0.98704231 0.36344509 0.24127136 0.81849736]\n",
      " [0.78733578 0.27655996 0.4052727  0.0512619  0.94316704]]\n"
     ]
    }
   ],
   "source": [
    "var1= np.random.rand(3,5) # four dim array all values lies in betwwen 0 to 1\n",
    "print(var1)"
   ]
  },
  {
   "cell_type": "code",
   "execution_count": 59,
   "id": "7aab3284",
   "metadata": {},
   "outputs": [
    {
     "name": "stdout",
     "output_type": "stream",
     "text": [
      "[-2.46999142  0.69062517 -0.72299297  0.05884429 -2.8362963 ]\n"
     ]
    }
   ],
   "source": [
    "var2= np.random.randn(5) # four dim array all values close to zero\n",
    "print(var2)"
   ]
  },
  {
   "cell_type": "code",
   "execution_count": 61,
   "id": "6d749612",
   "metadata": {},
   "outputs": [
    {
     "name": "stdout",
     "output_type": "stream",
     "text": [
      "[0.62359826 0.93433785 0.23385217 0.29060928 0.07336625]\n"
     ]
    }
   ],
   "source": [
    "var3= np.random.ranf(5) # 0 include but not 1 \n",
    "print(var3)"
   ]
  },
  {
   "cell_type": "code",
   "execution_count": 63,
   "id": "83c78ff5",
   "metadata": {},
   "outputs": [
    {
     "name": "stdout",
     "output_type": "stream",
     "text": [
      "6\n"
     ]
    }
   ],
   "source": [
    "var4= np.random.randint(2,7) \n",
    "print(var4)"
   ]
  },
  {
   "cell_type": "code",
   "execution_count": 65,
   "id": "c1bbc6db",
   "metadata": {},
   "outputs": [
    {
     "name": "stdout",
     "output_type": "stream",
     "text": [
      "[16 20  7 22  8 10 11]\n"
     ]
    }
   ],
   "source": [
    "var4= np.random.randint(2,27,7) # (min, max ,total no gen) \n",
    "print(var4)"
   ]
  },
  {
   "cell_type": "code",
   "execution_count": null,
   "id": "5e1585e6",
   "metadata": {},
   "outputs": [],
   "source": []
  }
 ],
 "metadata": {
  "kernelspec": {
   "display_name": "Python 3 (ipykernel)",
   "language": "python",
   "name": "python3"
  },
  "language_info": {
   "codemirror_mode": {
    "name": "ipython",
    "version": 3
   },
   "file_extension": ".py",
   "mimetype": "text/x-python",
   "name": "python",
   "nbconvert_exporter": "python",
   "pygments_lexer": "ipython3",
   "version": "3.9.12"
  }
 },
 "nbformat": 4,
 "nbformat_minor": 5
}
